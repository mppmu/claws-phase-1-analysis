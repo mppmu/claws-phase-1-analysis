{
 "cells": [
  {
   "cell_type": "code",
   "execution_count": 1,
   "metadata": {},
   "outputs": [],
   "source": [
    "import configparser\n",
    "import os\n",
    "import datetime\n",
    "import pandas as pd\n",
    "import numpy as np\n",
    "import seaborn as sns\n",
    "import matplotlib.pyplot as plt\n",
    "%matplotlib inline"
   ]
  },
  {
   "cell_type": "code",
   "execution_count": 2,
   "metadata": {},
   "outputs": [],
   "source": [
    "dir = '/remote/ceph/group/ilc/claws/phase1/RAW/connecticut'\n",
    "subfolder = 'data_root'\n",
    "# out = '/Users/mgabriel/Workspace/Plotting/PhD_Thesis/CLAWS/DataTaking/list_of_pvs.csv'\n",
    "out = '/home/iwsatlas1/mgabriel/workspace/Ploting/PhD_Thesis/CLAWS/DataTaking/list_of_pvs.csv'"
   ]
  },
  {
   "cell_type": "code",
   "execution_count": 3,
   "metadata": {},
   "outputs": [],
   "source": [
    "entries = ['Properties.EventNr', 'Properties.UnixTime', 'SuperKEKBData.SuperKEKBStatus', 'SuperKEKBData.LERSTatus', 'SuperKEKBData.HERStatus', 'SuperKEKBData.LERInj', 'SuperKEKBData.HERInj', 'SuperKEKBData.LERBg', 'SuperKEKBData.HERBg', 'SuperKEKBData.LERCurrent', 'SuperKEKBData.HERCurrent']"
   ]
  },
  {
   "cell_type": "code",
   "execution_count": 4,
   "metadata": {},
   "outputs": [],
   "source": [
    "df = pd.DataFrame(columns=entries)\n",
    "# ini_files = []\n",
    "# ini_paths = []\n",
    "for root, dirnames, filenames in os.walk(dir):\n",
    "\n",
    "\n",
    "    for file in sorted(filenames):\n",
    "        if file.endswith('.ini') and subfolder in root:\n",
    "            if '2016-05-' in root or '2016-06-' in root:\n",
    "                \n",
    "            #print(os.path.join(root,file))\n",
    "#                 ini_files.append(os.path.join(root,file))\n",
    "#                 ini_paths.append(root)\n",
    "                config = configparser.ConfigParser(strict=False)\n",
    "                config.optionxform = str\n",
    "                config.read(os.path.join(root,file))\n",
    "                \n",
    "                dict = {}\n",
    "                for entry in entries:    \n",
    "                    try:\n",
    "                        sec = entry.split('.')[0]\n",
    "                        name = entry.split('.')[1]\n",
    "                        val = config.get(sec,name)\n",
    "    #                     try: \n",
    "    #                         dict[entry] = float(val)\n",
    "    #                     except ValueError:\n",
    "    #                         dict[entry] = val\n",
    "\n",
    "                        dict[entry] = val\n",
    "                    except (KeyError, configparser.NoOptionError, configparser.NoSectionError):\n",
    "                        pass\n",
    "    #                     print('KEYERROR: ' + entry)\n",
    "    #                     print(config.items('Properties'))\n",
    "    #                     print(config.items('SuperKEKBData'))\n",
    "\n",
    "                df = df.append(dict,ignore_index=True)     \n",
    "\n",
    "               # print(config.items('Properties'))\n",
    "                #val = config[entry.split('.')[1]]\n",
    "                #val = 1\n",
    "                #print(str(name) + ': ' + str(val))\n",
    "                #df = df.append({entry: }, ignore_index=True)\n",
    "            \n",
    "                \n",
    "df.to_csv(out)"
   ]
  },
  {
   "cell_type": "code",
   "execution_count": 34,
   "metadata": {},
   "outputs": [
    {
     "name": "stdout",
     "output_type": "stream",
     "text": [
      "Properties.EventNr\n",
      "['400407001' '400407002' '400407003' ... '401214299' '401214300'\n",
      " '401214301']\n",
      "Properties.UnixTime\n",
      "['1463246392.5263095' '1463246400.3447566' '1463246409.7352934' ...\n",
      " '1465377305.1248393' '1465377307.6859856' '1465377309.4470863']\n",
      "SuperKEKBData.SuperKEKBStatus\n",
      "['Vacuum Scrubbing' 'Tuning' 'Beast Study' 'Abort Study' 'Feedback Tuning'\n",
      " 'Feedback tuning' 'X-ray monitor tuning' '' 'Collimator Study'\n",
      " 'Injection background  Study' 'Optics study' 'Optics Correction' 'Limit'\n",
      " 'Quad BPM' 'Study' 'Beam size measurement']\n",
      "SuperKEKBData.LERSTatus\n",
      "['Vacuum Scrubbing' 'Optics measurements' 'Beast Study' 'Feedback tuning'\n",
      " '' 'Collimator Study' 'Injection background  Study' 'Optics study'\n",
      " 'Optics Correction' 'Limit' 'Quad BPM' 'Beast study' 'Size monitor study'\n",
      " 'Off Momentum Optics Measurement' 'Dithering System Study'\n",
      " 'Life Time Measurement' 'Beam size measurement' 'Optics Measurement'\n",
      " 'Blowup Study']\n",
      "SuperKEKBData.HERStatus\n",
      "['Vacuum Scrubbing' 'XRM Study & Tuning' 'Injection Tuning' 'Beast Study'\n",
      " 'Abort Study' 'Feedback Tuning' 'Feedback tuning' 'X-ray monitor tuning'\n",
      " '' 'Collimator Study' 'Injection background  Study' 'Optics study'\n",
      " 'Optics Correction' 'Limit' 'Quad BPM' 'RF Gun Study' 'Beast study'\n",
      " 'Abort kicker study' 'BBA PS Test' 'Linac tuning' 'Change Beta Function']\n",
      "SuperKEKBData.LERInj\n",
      "['0.0' '12.5' '25.0' '5.0' '1.0' '0.2']\n",
      "SuperKEKBData.HERInj\n",
      "['25.0' '0.0' '1.0' '5.0' '12.5' '0.5']\n",
      "SuperKEKBData.LERBg\n",
      "['0' '1']\n",
      "SuperKEKBData.HERBg\n",
      "['1' '0']\n",
      "SuperKEKBData.LERCurrent\n",
      "[nan '36.3764875' '36.373487499999996' ... '31.4852625'\n",
      " '31.479162499999997' '31.476162499999997']\n",
      "SuperKEKBData.HERCurrent\n",
      "[nan '258.13095000000004' '258.11355000000003' ... '70.15780000000001'\n",
      " '70.15979999999999' '70.169']\n"
     ]
    }
   ],
   "source": [
    "for col in df.columns:\n",
    "    print(col)\n",
    "    print(df[col].unique())"
   ]
  },
  {
   "cell_type": "markdown",
   "metadata": {},
   "source": [
    "# Read in processed csv file"
   ]
  },
  {
   "cell_type": "code",
   "execution_count": 4,
   "metadata": {},
   "outputs": [],
   "source": [
    "df = pd.read_csv(out)"
   ]
  },
  {
   "cell_type": "code",
   "execution_count": 5,
   "metadata": {},
   "outputs": [
    {
     "data": {
      "text/html": [
       "<div>\n",
       "<style scoped>\n",
       "    .dataframe tbody tr th:only-of-type {\n",
       "        vertical-align: middle;\n",
       "    }\n",
       "\n",
       "    .dataframe tbody tr th {\n",
       "        vertical-align: top;\n",
       "    }\n",
       "\n",
       "    .dataframe thead th {\n",
       "        text-align: right;\n",
       "    }\n",
       "</style>\n",
       "<table border=\"1\" class=\"dataframe\">\n",
       "  <thead>\n",
       "    <tr style=\"text-align: right;\">\n",
       "      <th></th>\n",
       "      <th>Unnamed: 0</th>\n",
       "      <th>Properties.EventNr</th>\n",
       "      <th>Properties.UnixTime</th>\n",
       "      <th>SuperKEKBData.SuperKEKBStatus</th>\n",
       "      <th>SuperKEKBData.LERSTatus</th>\n",
       "      <th>SuperKEKBData.HERStatus</th>\n",
       "      <th>SuperKEKBData.LERInj</th>\n",
       "      <th>SuperKEKBData.HERInj</th>\n",
       "      <th>SuperKEKBData.LERBg</th>\n",
       "      <th>SuperKEKBData.HERBg</th>\n",
       "      <th>SuperKEKBData.LERCurrent</th>\n",
       "      <th>SuperKEKBData.HERCurrent</th>\n",
       "    </tr>\n",
       "  </thead>\n",
       "  <tbody>\n",
       "    <tr>\n",
       "      <th>58564</th>\n",
       "      <td>58564</td>\n",
       "      <td>401214297</td>\n",
       "      <td>1.465377e+09</td>\n",
       "      <td>NaN</td>\n",
       "      <td>Optics Measurement</td>\n",
       "      <td>RF Gun Study</td>\n",
       "      <td>0.0</td>\n",
       "      <td>12.5</td>\n",
       "      <td>0</td>\n",
       "      <td>1</td>\n",
       "      <td>31.491263</td>\n",
       "      <td>70.1629</td>\n",
       "    </tr>\n",
       "    <tr>\n",
       "      <th>58565</th>\n",
       "      <td>58565</td>\n",
       "      <td>401214298</td>\n",
       "      <td>1.465377e+09</td>\n",
       "      <td>NaN</td>\n",
       "      <td>Optics Measurement</td>\n",
       "      <td>RF Gun Study</td>\n",
       "      <td>0.0</td>\n",
       "      <td>12.5</td>\n",
       "      <td>0</td>\n",
       "      <td>1</td>\n",
       "      <td>31.485263</td>\n",
       "      <td>70.1690</td>\n",
       "    </tr>\n",
       "    <tr>\n",
       "      <th>58566</th>\n",
       "      <td>58566</td>\n",
       "      <td>401214299</td>\n",
       "      <td>1.465377e+09</td>\n",
       "      <td>NaN</td>\n",
       "      <td>Optics Measurement</td>\n",
       "      <td>RF Gun Study</td>\n",
       "      <td>0.0</td>\n",
       "      <td>12.5</td>\n",
       "      <td>0</td>\n",
       "      <td>1</td>\n",
       "      <td>31.485263</td>\n",
       "      <td>70.1588</td>\n",
       "    </tr>\n",
       "    <tr>\n",
       "      <th>58567</th>\n",
       "      <td>58567</td>\n",
       "      <td>401214300</td>\n",
       "      <td>1.465377e+09</td>\n",
       "      <td>NaN</td>\n",
       "      <td>Optics Measurement</td>\n",
       "      <td>RF Gun Study</td>\n",
       "      <td>0.0</td>\n",
       "      <td>12.5</td>\n",
       "      <td>0</td>\n",
       "      <td>1</td>\n",
       "      <td>31.479163</td>\n",
       "      <td>70.1598</td>\n",
       "    </tr>\n",
       "    <tr>\n",
       "      <th>58568</th>\n",
       "      <td>58568</td>\n",
       "      <td>401214301</td>\n",
       "      <td>1.465377e+09</td>\n",
       "      <td>NaN</td>\n",
       "      <td>Optics Measurement</td>\n",
       "      <td>RF Gun Study</td>\n",
       "      <td>0.0</td>\n",
       "      <td>12.5</td>\n",
       "      <td>0</td>\n",
       "      <td>1</td>\n",
       "      <td>31.476163</td>\n",
       "      <td>70.1639</td>\n",
       "    </tr>\n",
       "  </tbody>\n",
       "</table>\n",
       "</div>"
      ],
      "text/plain": [
       "       Unnamed: 0  Properties.EventNr  Properties.UnixTime  \\\n",
       "58564       58564           401214297         1.465377e+09   \n",
       "58565       58565           401214298         1.465377e+09   \n",
       "58566       58566           401214299         1.465377e+09   \n",
       "58567       58567           401214300         1.465377e+09   \n",
       "58568       58568           401214301         1.465377e+09   \n",
       "\n",
       "      SuperKEKBData.SuperKEKBStatus SuperKEKBData.LERSTatus  \\\n",
       "58564                           NaN      Optics Measurement   \n",
       "58565                           NaN      Optics Measurement   \n",
       "58566                           NaN      Optics Measurement   \n",
       "58567                           NaN      Optics Measurement   \n",
       "58568                           NaN      Optics Measurement   \n",
       "\n",
       "      SuperKEKBData.HERStatus  SuperKEKBData.LERInj  SuperKEKBData.HERInj  \\\n",
       "58564            RF Gun Study                   0.0                  12.5   \n",
       "58565            RF Gun Study                   0.0                  12.5   \n",
       "58566            RF Gun Study                   0.0                  12.5   \n",
       "58567            RF Gun Study                   0.0                  12.5   \n",
       "58568            RF Gun Study                   0.0                  12.5   \n",
       "\n",
       "       SuperKEKBData.LERBg  SuperKEKBData.HERBg  SuperKEKBData.LERCurrent  \\\n",
       "58564                    0                    1                 31.491263   \n",
       "58565                    0                    1                 31.485263   \n",
       "58566                    0                    1                 31.485263   \n",
       "58567                    0                    1                 31.479163   \n",
       "58568                    0                    1                 31.476163   \n",
       "\n",
       "       SuperKEKBData.HERCurrent  \n",
       "58564                   70.1629  \n",
       "58565                   70.1690  \n",
       "58566                   70.1588  \n",
       "58567                   70.1598  \n",
       "58568                   70.1639  "
      ]
     },
     "execution_count": 5,
     "metadata": {},
     "output_type": "execute_result"
    }
   ],
   "source": [
    "df.tail()"
   ]
  },
  {
   "cell_type": "code",
   "execution_count": 6,
   "metadata": {},
   "outputs": [
    {
     "data": {
      "text/plain": [
       "Index(['Unnamed: 0', 'Properties.EventNr', 'Properties.UnixTime',\n",
       "       'SuperKEKBData.SuperKEKBStatus', 'SuperKEKBData.LERSTatus',\n",
       "       'SuperKEKBData.HERStatus', 'SuperKEKBData.LERInj',\n",
       "       'SuperKEKBData.HERInj', 'SuperKEKBData.LERBg', 'SuperKEKBData.HERBg',\n",
       "       'SuperKEKBData.LERCurrent', 'SuperKEKBData.HERCurrent'],\n",
       "      dtype='object')"
      ]
     },
     "execution_count": 6,
     "metadata": {},
     "output_type": "execute_result"
    }
   ],
   "source": [
    "df.columns"
   ]
  },
  {
   "cell_type": "code",
   "execution_count": 7,
   "metadata": {},
   "outputs": [
    {
     "data": {
      "text/plain": [
       "count    5.856900e+04\n",
       "mean     1.464709e+09\n",
       "std      1.060083e+06\n",
       "min      1.463246e+09\n",
       "25%      1.464069e+09\n",
       "50%      1.464196e+09\n",
       "75%      1.465382e+09\n",
       "max      1.467056e+09\n",
       "Name: Properties.UnixTime, dtype: float64"
      ]
     },
     "execution_count": 7,
     "metadata": {},
     "output_type": "execute_result"
    }
   ],
   "source": [
    "df['Properties.UnixTime'].describe()"
   ]
  },
  {
   "cell_type": "code",
   "execution_count": 8,
   "metadata": {},
   "outputs": [
    {
     "data": {
      "text/plain": [
       "Timedelta('0 days 09:00:00')"
      ]
     },
     "execution_count": 8,
     "metadata": {},
     "output_type": "execute_result"
    }
   ],
   "source": [
    "pd.to_timedelta('9 h')"
   ]
  },
  {
   "cell_type": "code",
   "execution_count": 9,
   "metadata": {},
   "outputs": [],
   "source": [
    "df['Date'] = pd.to_datetime(df['Properties.UnixTime'],unit='s', origin='unix', utc=True)+pd.to_timedelta('9 h')"
   ]
  },
  {
   "cell_type": "code",
   "execution_count": 10,
   "metadata": {},
   "outputs": [
    {
     "data": {
      "text/plain": [
       "count                                   58569\n",
       "unique                                  58569\n",
       "top       2016-05-25 11:14:49.224774837+00:00\n",
       "freq                                        1\n",
       "Name: Date, dtype: object"
      ]
     },
     "execution_count": 10,
     "metadata": {},
     "output_type": "execute_result"
    }
   ],
   "source": [
    "df['Date'].describe()"
   ]
  },
  {
   "cell_type": "code",
   "execution_count": 11,
   "metadata": {},
   "outputs": [
    {
     "data": {
      "text/html": [
       "<div>\n",
       "<style scoped>\n",
       "    .dataframe tbody tr th:only-of-type {\n",
       "        vertical-align: middle;\n",
       "    }\n",
       "\n",
       "    .dataframe tbody tr th {\n",
       "        vertical-align: top;\n",
       "    }\n",
       "\n",
       "    .dataframe thead th {\n",
       "        text-align: right;\n",
       "    }\n",
       "</style>\n",
       "<table border=\"1\" class=\"dataframe\">\n",
       "  <thead>\n",
       "    <tr style=\"text-align: right;\">\n",
       "      <th></th>\n",
       "      <th>Unnamed: 0</th>\n",
       "      <th>Properties.EventNr</th>\n",
       "      <th>Properties.UnixTime</th>\n",
       "      <th>SuperKEKBData.SuperKEKBStatus</th>\n",
       "      <th>SuperKEKBData.LERSTatus</th>\n",
       "      <th>SuperKEKBData.HERStatus</th>\n",
       "      <th>SuperKEKBData.LERInj</th>\n",
       "      <th>SuperKEKBData.HERInj</th>\n",
       "      <th>SuperKEKBData.LERBg</th>\n",
       "      <th>SuperKEKBData.HERBg</th>\n",
       "      <th>SuperKEKBData.LERCurrent</th>\n",
       "      <th>SuperKEKBData.HERCurrent</th>\n",
       "      <th>Date</th>\n",
       "    </tr>\n",
       "  </thead>\n",
       "  <tbody>\n",
       "    <tr>\n",
       "      <th>58564</th>\n",
       "      <td>58564</td>\n",
       "      <td>401214297</td>\n",
       "      <td>1.465377e+09</td>\n",
       "      <td>NaN</td>\n",
       "      <td>Optics Measurement</td>\n",
       "      <td>RF Gun Study</td>\n",
       "      <td>0.0</td>\n",
       "      <td>12.5</td>\n",
       "      <td>0</td>\n",
       "      <td>1</td>\n",
       "      <td>31.491263</td>\n",
       "      <td>70.1629</td>\n",
       "      <td>2016-06-08 18:15:00.961600780+00:00</td>\n",
       "    </tr>\n",
       "    <tr>\n",
       "      <th>58565</th>\n",
       "      <td>58565</td>\n",
       "      <td>401214298</td>\n",
       "      <td>1.465377e+09</td>\n",
       "      <td>NaN</td>\n",
       "      <td>Optics Measurement</td>\n",
       "      <td>RF Gun Study</td>\n",
       "      <td>0.0</td>\n",
       "      <td>12.5</td>\n",
       "      <td>0</td>\n",
       "      <td>1</td>\n",
       "      <td>31.485263</td>\n",
       "      <td>70.1690</td>\n",
       "      <td>2016-06-08 18:15:03.445743084+00:00</td>\n",
       "    </tr>\n",
       "    <tr>\n",
       "      <th>58566</th>\n",
       "      <td>58566</td>\n",
       "      <td>401214299</td>\n",
       "      <td>1.465377e+09</td>\n",
       "      <td>NaN</td>\n",
       "      <td>Optics Measurement</td>\n",
       "      <td>RF Gun Study</td>\n",
       "      <td>0.0</td>\n",
       "      <td>12.5</td>\n",
       "      <td>0</td>\n",
       "      <td>1</td>\n",
       "      <td>31.485263</td>\n",
       "      <td>70.1588</td>\n",
       "      <td>2016-06-08 18:15:05.124839306+00:00</td>\n",
       "    </tr>\n",
       "    <tr>\n",
       "      <th>58567</th>\n",
       "      <td>58567</td>\n",
       "      <td>401214300</td>\n",
       "      <td>1.465377e+09</td>\n",
       "      <td>NaN</td>\n",
       "      <td>Optics Measurement</td>\n",
       "      <td>RF Gun Study</td>\n",
       "      <td>0.0</td>\n",
       "      <td>12.5</td>\n",
       "      <td>0</td>\n",
       "      <td>1</td>\n",
       "      <td>31.479163</td>\n",
       "      <td>70.1598</td>\n",
       "      <td>2016-06-08 18:15:07.685985565+00:00</td>\n",
       "    </tr>\n",
       "    <tr>\n",
       "      <th>58568</th>\n",
       "      <td>58568</td>\n",
       "      <td>401214301</td>\n",
       "      <td>1.465377e+09</td>\n",
       "      <td>NaN</td>\n",
       "      <td>Optics Measurement</td>\n",
       "      <td>RF Gun Study</td>\n",
       "      <td>0.0</td>\n",
       "      <td>12.5</td>\n",
       "      <td>0</td>\n",
       "      <td>1</td>\n",
       "      <td>31.476163</td>\n",
       "      <td>70.1639</td>\n",
       "      <td>2016-06-08 18:15:09.447086573+00:00</td>\n",
       "    </tr>\n",
       "  </tbody>\n",
       "</table>\n",
       "</div>"
      ],
      "text/plain": [
       "       Unnamed: 0  Properties.EventNr  Properties.UnixTime  \\\n",
       "58564       58564           401214297         1.465377e+09   \n",
       "58565       58565           401214298         1.465377e+09   \n",
       "58566       58566           401214299         1.465377e+09   \n",
       "58567       58567           401214300         1.465377e+09   \n",
       "58568       58568           401214301         1.465377e+09   \n",
       "\n",
       "      SuperKEKBData.SuperKEKBStatus SuperKEKBData.LERSTatus  \\\n",
       "58564                           NaN      Optics Measurement   \n",
       "58565                           NaN      Optics Measurement   \n",
       "58566                           NaN      Optics Measurement   \n",
       "58567                           NaN      Optics Measurement   \n",
       "58568                           NaN      Optics Measurement   \n",
       "\n",
       "      SuperKEKBData.HERStatus  SuperKEKBData.LERInj  SuperKEKBData.HERInj  \\\n",
       "58564            RF Gun Study                   0.0                  12.5   \n",
       "58565            RF Gun Study                   0.0                  12.5   \n",
       "58566            RF Gun Study                   0.0                  12.5   \n",
       "58567            RF Gun Study                   0.0                  12.5   \n",
       "58568            RF Gun Study                   0.0                  12.5   \n",
       "\n",
       "       SuperKEKBData.LERBg  SuperKEKBData.HERBg  SuperKEKBData.LERCurrent  \\\n",
       "58564                    0                    1                 31.491263   \n",
       "58565                    0                    1                 31.485263   \n",
       "58566                    0                    1                 31.485263   \n",
       "58567                    0                    1                 31.479163   \n",
       "58568                    0                    1                 31.476163   \n",
       "\n",
       "       SuperKEKBData.HERCurrent                                Date  \n",
       "58564                   70.1629 2016-06-08 18:15:00.961600780+00:00  \n",
       "58565                   70.1690 2016-06-08 18:15:03.445743084+00:00  \n",
       "58566                   70.1588 2016-06-08 18:15:05.124839306+00:00  \n",
       "58567                   70.1598 2016-06-08 18:15:07.685985565+00:00  \n",
       "58568                   70.1639 2016-06-08 18:15:09.447086573+00:00  "
      ]
     },
     "execution_count": 11,
     "metadata": {},
     "output_type": "execute_result"
    }
   ],
   "source": [
    "df.tail()"
   ]
  },
  {
   "cell_type": "code",
   "execution_count": 12,
   "metadata": {},
   "outputs": [
    {
     "data": {
      "text/html": [
       "<div>\n",
       "<style scoped>\n",
       "    .dataframe tbody tr th:only-of-type {\n",
       "        vertical-align: middle;\n",
       "    }\n",
       "\n",
       "    .dataframe tbody tr th {\n",
       "        vertical-align: top;\n",
       "    }\n",
       "\n",
       "    .dataframe thead th {\n",
       "        text-align: right;\n",
       "    }\n",
       "</style>\n",
       "<table border=\"1\" class=\"dataframe\">\n",
       "  <thead>\n",
       "    <tr style=\"text-align: right;\">\n",
       "      <th></th>\n",
       "      <th>Unnamed: 0</th>\n",
       "      <th>Properties.EventNr</th>\n",
       "      <th>Properties.UnixTime</th>\n",
       "      <th>SuperKEKBData.SuperKEKBStatus</th>\n",
       "      <th>SuperKEKBData.LERSTatus</th>\n",
       "      <th>SuperKEKBData.HERStatus</th>\n",
       "      <th>SuperKEKBData.LERInj</th>\n",
       "      <th>SuperKEKBData.HERInj</th>\n",
       "      <th>SuperKEKBData.LERBg</th>\n",
       "      <th>SuperKEKBData.HERBg</th>\n",
       "      <th>SuperKEKBData.LERCurrent</th>\n",
       "      <th>SuperKEKBData.HERCurrent</th>\n",
       "      <th>Date</th>\n",
       "    </tr>\n",
       "  </thead>\n",
       "  <tbody>\n",
       "    <tr>\n",
       "      <th>49172</th>\n",
       "      <td>49172</td>\n",
       "      <td>401266228</td>\n",
       "      <td>1.467056e+09</td>\n",
       "      <td>Beam size measurement</td>\n",
       "      <td>Beam size measurement</td>\n",
       "      <td>NaN</td>\n",
       "      <td>1.0</td>\n",
       "      <td>0.0</td>\n",
       "      <td>0</td>\n",
       "      <td>0</td>\n",
       "      <td>0.013787</td>\n",
       "      <td>-0.024287</td>\n",
       "      <td>2016-06-28 04:30:36.474936485+00:00</td>\n",
       "    </tr>\n",
       "    <tr>\n",
       "      <th>49173</th>\n",
       "      <td>49173</td>\n",
       "      <td>401266229</td>\n",
       "      <td>1.467056e+09</td>\n",
       "      <td>Beam size measurement</td>\n",
       "      <td>Beam size measurement</td>\n",
       "      <td>NaN</td>\n",
       "      <td>1.0</td>\n",
       "      <td>0.0</td>\n",
       "      <td>0</td>\n",
       "      <td>0</td>\n",
       "      <td>0.016787</td>\n",
       "      <td>-0.025287</td>\n",
       "      <td>2016-06-28 04:30:45.059427261+00:00</td>\n",
       "    </tr>\n",
       "    <tr>\n",
       "      <th>49174</th>\n",
       "      <td>49174</td>\n",
       "      <td>401266230</td>\n",
       "      <td>1.467056e+09</td>\n",
       "      <td>Beam size measurement</td>\n",
       "      <td>Beam size measurement</td>\n",
       "      <td>NaN</td>\n",
       "      <td>1.0</td>\n",
       "      <td>0.0</td>\n",
       "      <td>0</td>\n",
       "      <td>0</td>\n",
       "      <td>-0.002413</td>\n",
       "      <td>-0.024287</td>\n",
       "      <td>2016-06-28 04:30:51.786811829+00:00</td>\n",
       "    </tr>\n",
       "    <tr>\n",
       "      <th>49175</th>\n",
       "      <td>49175</td>\n",
       "      <td>401266231</td>\n",
       "      <td>1.467056e+09</td>\n",
       "      <td>Beam size measurement</td>\n",
       "      <td>Beam size measurement</td>\n",
       "      <td>NaN</td>\n",
       "      <td>1.0</td>\n",
       "      <td>0.0</td>\n",
       "      <td>0</td>\n",
       "      <td>0</td>\n",
       "      <td>-0.008413</td>\n",
       "      <td>-0.026287</td>\n",
       "      <td>2016-06-28 04:30:58.512197017+00:00</td>\n",
       "    </tr>\n",
       "    <tr>\n",
       "      <th>49176</th>\n",
       "      <td>49176</td>\n",
       "      <td>401266232</td>\n",
       "      <td>1.467056e+09</td>\n",
       "      <td>Beam size measurement</td>\n",
       "      <td>Beam size measurement</td>\n",
       "      <td>NaN</td>\n",
       "      <td>1.0</td>\n",
       "      <td>0.0</td>\n",
       "      <td>0</td>\n",
       "      <td>0</td>\n",
       "      <td>0.007688</td>\n",
       "      <td>-0.022187</td>\n",
       "      <td>2016-06-28 04:31:06.702665329+00:00</td>\n",
       "    </tr>\n",
       "  </tbody>\n",
       "</table>\n",
       "</div>"
      ],
      "text/plain": [
       "       Unnamed: 0  Properties.EventNr  Properties.UnixTime  \\\n",
       "49172       49172           401266228         1.467056e+09   \n",
       "49173       49173           401266229         1.467056e+09   \n",
       "49174       49174           401266230         1.467056e+09   \n",
       "49175       49175           401266231         1.467056e+09   \n",
       "49176       49176           401266232         1.467056e+09   \n",
       "\n",
       "      SuperKEKBData.SuperKEKBStatus SuperKEKBData.LERSTatus  \\\n",
       "49172         Beam size measurement   Beam size measurement   \n",
       "49173         Beam size measurement   Beam size measurement   \n",
       "49174         Beam size measurement   Beam size measurement   \n",
       "49175         Beam size measurement   Beam size measurement   \n",
       "49176         Beam size measurement   Beam size measurement   \n",
       "\n",
       "      SuperKEKBData.HERStatus  SuperKEKBData.LERInj  SuperKEKBData.HERInj  \\\n",
       "49172                     NaN                   1.0                   0.0   \n",
       "49173                     NaN                   1.0                   0.0   \n",
       "49174                     NaN                   1.0                   0.0   \n",
       "49175                     NaN                   1.0                   0.0   \n",
       "49176                     NaN                   1.0                   0.0   \n",
       "\n",
       "       SuperKEKBData.LERBg  SuperKEKBData.HERBg  SuperKEKBData.LERCurrent  \\\n",
       "49172                    0                    0                  0.013787   \n",
       "49173                    0                    0                  0.016787   \n",
       "49174                    0                    0                 -0.002413   \n",
       "49175                    0                    0                 -0.008413   \n",
       "49176                    0                    0                  0.007688   \n",
       "\n",
       "       SuperKEKBData.HERCurrent                                Date  \n",
       "49172                 -0.024287 2016-06-28 04:30:36.474936485+00:00  \n",
       "49173                 -0.025287 2016-06-28 04:30:45.059427261+00:00  \n",
       "49174                 -0.024287 2016-06-28 04:30:51.786811829+00:00  \n",
       "49175                 -0.026287 2016-06-28 04:30:58.512197017+00:00  \n",
       "49176                 -0.022187 2016-06-28 04:31:06.702665329+00:00  "
      ]
     },
     "execution_count": 12,
     "metadata": {},
     "output_type": "execute_result"
    }
   ],
   "source": [
    "df = df.sort_values(by=['Date'])\n",
    "df.tail()"
   ]
  },
  {
   "cell_type": "code",
   "execution_count": 13,
   "metadata": {},
   "outputs": [],
   "source": [
    "# df = df.set_index('Date')\n",
    "# # df.tail()"
   ]
  },
  {
   "cell_type": "code",
   "execution_count": 14,
   "metadata": {},
   "outputs": [
    {
     "data": {
      "text/plain": [
       "Timestamp('2016-05-25 23:53:20+0900', tz='Asia/Tokyo')"
      ]
     },
     "execution_count": 14,
     "metadata": {},
     "output_type": "execute_result"
    }
   ],
   "source": [
    "pd.to_datetime(1.464188e+09,unit='s', origin='unix', utc=True).tz_convert('Asia/Tokyo')"
   ]
  },
  {
   "cell_type": "code",
   "execution_count": 15,
   "metadata": {},
   "outputs": [
    {
     "data": {
      "text/plain": [
       "Timestamp('2016-05-25 23:53:20+0000', tz='UTC')"
      ]
     },
     "execution_count": 15,
     "metadata": {},
     "output_type": "execute_result"
    }
   ],
   "source": [
    "pd.to_datetime(1.464188e+09,unit='s', origin='unix', utc=True)+pd.to_timedelta('9 h')"
   ]
  },
  {
   "cell_type": "code",
   "execution_count": 16,
   "metadata": {},
   "outputs": [],
   "source": [
    "#df.Date = df.Date.dt.tz_localize('UTC').dt.tz_convert('Asia/Tokyo')\n",
    "# df.Date = df.Date.dt.tz_localize('UTC').dt.tz_convert('Asia/Tokyo')\n",
    "# df.tail()"
   ]
  },
  {
   "cell_type": "code",
   "execution_count": 17,
   "metadata": {},
   "outputs": [],
   "source": [
    "#df = df.set_index('Date')"
   ]
  },
  {
   "cell_type": "code",
   "execution_count": 18,
   "metadata": {},
   "outputs": [],
   "source": [
    "# df[(df['Date']>='2016-05-25')&(df['Date']<='2016-05-26')].head()"
   ]
  },
  {
   "cell_type": "code",
   "execution_count": 22,
   "metadata": {},
   "outputs": [
    {
     "data": {
      "text/html": [
       "<div>\n",
       "<style scoped>\n",
       "    .dataframe tbody tr th:only-of-type {\n",
       "        vertical-align: middle;\n",
       "    }\n",
       "\n",
       "    .dataframe tbody tr th {\n",
       "        vertical-align: top;\n",
       "    }\n",
       "\n",
       "    .dataframe thead th {\n",
       "        text-align: right;\n",
       "    }\n",
       "</style>\n",
       "<table border=\"1\" class=\"dataframe\">\n",
       "  <thead>\n",
       "    <tr style=\"text-align: right;\">\n",
       "      <th></th>\n",
       "      <th>Unnamed: 0</th>\n",
       "      <th>Properties.EventNr</th>\n",
       "      <th>Properties.UnixTime</th>\n",
       "      <th>SuperKEKBData.SuperKEKBStatus</th>\n",
       "      <th>SuperKEKBData.LERSTatus</th>\n",
       "      <th>SuperKEKBData.HERStatus</th>\n",
       "      <th>SuperKEKBData.LERInj</th>\n",
       "      <th>SuperKEKBData.HERInj</th>\n",
       "      <th>SuperKEKBData.LERBg</th>\n",
       "      <th>SuperKEKBData.HERBg</th>\n",
       "      <th>SuperKEKBData.LERCurrent</th>\n",
       "      <th>SuperKEKBData.HERCurrent</th>\n",
       "      <th>Date</th>\n",
       "    </tr>\n",
       "  </thead>\n",
       "  <tbody>\n",
       "    <tr>\n",
       "      <th>27798</th>\n",
       "      <td>27798</td>\n",
       "      <td>401196111</td>\n",
       "      <td>1.464514e+09</td>\n",
       "      <td>Vacuum Scrubbing</td>\n",
       "      <td>Vacuum Scrubbing</td>\n",
       "      <td>Vacuum Scrubbing</td>\n",
       "      <td>12.5</td>\n",
       "      <td>0.0</td>\n",
       "      <td>0</td>\n",
       "      <td>0</td>\n",
       "      <td>796.634188</td>\n",
       "      <td>588.35385</td>\n",
       "      <td>2016-05-29 18:22:21.571004391+00:00</td>\n",
       "    </tr>\n",
       "    <tr>\n",
       "      <th>27799</th>\n",
       "      <td>27799</td>\n",
       "      <td>401196112</td>\n",
       "      <td>1.464514e+09</td>\n",
       "      <td>Vacuum Scrubbing</td>\n",
       "      <td>Vacuum Scrubbing</td>\n",
       "      <td>Vacuum Scrubbing</td>\n",
       "      <td>12.5</td>\n",
       "      <td>0.0</td>\n",
       "      <td>0</td>\n",
       "      <td>0</td>\n",
       "      <td>795.391788</td>\n",
       "      <td>588.18515</td>\n",
       "      <td>2016-05-29 18:22:30.170495987+00:00</td>\n",
       "    </tr>\n",
       "    <tr>\n",
       "      <th>27800</th>\n",
       "      <td>27800</td>\n",
       "      <td>401196113</td>\n",
       "      <td>1.464514e+09</td>\n",
       "      <td>Vacuum Scrubbing</td>\n",
       "      <td>Vacuum Scrubbing</td>\n",
       "      <td>Vacuum Scrubbing</td>\n",
       "      <td>12.5</td>\n",
       "      <td>0.0</td>\n",
       "      <td>0</td>\n",
       "      <td>0</td>\n",
       "      <td>794.270588</td>\n",
       "      <td>588.05525</td>\n",
       "      <td>2016-05-29 18:22:36.756872654+00:00</td>\n",
       "    </tr>\n",
       "    <tr>\n",
       "      <th>27801</th>\n",
       "      <td>27801</td>\n",
       "      <td>401196114</td>\n",
       "      <td>1.464514e+09</td>\n",
       "      <td>Vacuum Scrubbing</td>\n",
       "      <td>Vacuum Scrubbing</td>\n",
       "      <td>Vacuum Scrubbing</td>\n",
       "      <td>12.5</td>\n",
       "      <td>0.0</td>\n",
       "      <td>0</td>\n",
       "      <td>0</td>\n",
       "      <td>793.337288</td>\n",
       "      <td>587.93255</td>\n",
       "      <td>2016-05-29 18:22:43.326248407+00:00</td>\n",
       "    </tr>\n",
       "    <tr>\n",
       "      <th>27802</th>\n",
       "      <td>27802</td>\n",
       "      <td>401196115</td>\n",
       "      <td>1.464514e+09</td>\n",
       "      <td>Vacuum Scrubbing</td>\n",
       "      <td>Vacuum Scrubbing</td>\n",
       "      <td>Vacuum Scrubbing</td>\n",
       "      <td>12.5</td>\n",
       "      <td>0.0</td>\n",
       "      <td>0</td>\n",
       "      <td>0</td>\n",
       "      <td>791.917188</td>\n",
       "      <td>587.74645</td>\n",
       "      <td>2016-05-29 18:22:51.780732155+00:00</td>\n",
       "    </tr>\n",
       "  </tbody>\n",
       "</table>\n",
       "</div>"
      ],
      "text/plain": [
       "       Unnamed: 0  Properties.EventNr  Properties.UnixTime  \\\n",
       "27798       27798           401196111         1.464514e+09   \n",
       "27799       27799           401196112         1.464514e+09   \n",
       "27800       27800           401196113         1.464514e+09   \n",
       "27801       27801           401196114         1.464514e+09   \n",
       "27802       27802           401196115         1.464514e+09   \n",
       "\n",
       "      SuperKEKBData.SuperKEKBStatus SuperKEKBData.LERSTatus  \\\n",
       "27798              Vacuum Scrubbing        Vacuum Scrubbing   \n",
       "27799              Vacuum Scrubbing        Vacuum Scrubbing   \n",
       "27800              Vacuum Scrubbing        Vacuum Scrubbing   \n",
       "27801              Vacuum Scrubbing        Vacuum Scrubbing   \n",
       "27802              Vacuum Scrubbing        Vacuum Scrubbing   \n",
       "\n",
       "      SuperKEKBData.HERStatus  SuperKEKBData.LERInj  SuperKEKBData.HERInj  \\\n",
       "27798        Vacuum Scrubbing                  12.5                   0.0   \n",
       "27799        Vacuum Scrubbing                  12.5                   0.0   \n",
       "27800        Vacuum Scrubbing                  12.5                   0.0   \n",
       "27801        Vacuum Scrubbing                  12.5                   0.0   \n",
       "27802        Vacuum Scrubbing                  12.5                   0.0   \n",
       "\n",
       "       SuperKEKBData.LERBg  SuperKEKBData.HERBg  SuperKEKBData.LERCurrent  \\\n",
       "27798                    0                    0                796.634188   \n",
       "27799                    0                    0                795.391788   \n",
       "27800                    0                    0                794.270588   \n",
       "27801                    0                    0                793.337288   \n",
       "27802                    0                    0                791.917188   \n",
       "\n",
       "       SuperKEKBData.HERCurrent                                Date  \n",
       "27798                 588.35385 2016-05-29 18:22:21.571004391+00:00  \n",
       "27799                 588.18515 2016-05-29 18:22:30.170495987+00:00  \n",
       "27800                 588.05525 2016-05-29 18:22:36.756872654+00:00  \n",
       "27801                 587.93255 2016-05-29 18:22:43.326248407+00:00  \n",
       "27802                 587.74645 2016-05-29 18:22:51.780732155+00:00  "
      ]
     },
     "execution_count": 22,
     "metadata": {},
     "output_type": "execute_result"
    }
   ],
   "source": [
    "df[df['SuperKEKBData.HERStatus'] =='Vacuum Scrubbing'].tail()"
   ]
  },
  {
   "cell_type": "code",
   "execution_count": 30,
   "metadata": {},
   "outputs": [],
   "source": [
    "# df = df.set_index('Date')\n",
    "# #ind_df=df.set_index(['A', 'B'])\n",
    "# df.tail()"
   ]
  },
  {
   "cell_type": "code",
   "execution_count": 31,
   "metadata": {},
   "outputs": [
    {
     "data": {
      "text/html": [
       "<div>\n",
       "<style scoped>\n",
       "    .dataframe tbody tr th:only-of-type {\n",
       "        vertical-align: middle;\n",
       "    }\n",
       "\n",
       "    .dataframe tbody tr th {\n",
       "        vertical-align: top;\n",
       "    }\n",
       "\n",
       "    .dataframe thead th {\n",
       "        text-align: right;\n",
       "    }\n",
       "</style>\n",
       "<table border=\"1\" class=\"dataframe\">\n",
       "  <thead>\n",
       "    <tr style=\"text-align: right;\">\n",
       "      <th></th>\n",
       "      <th>Unnamed: 0</th>\n",
       "      <th>Properties.EventNr</th>\n",
       "      <th>Properties.UnixTime</th>\n",
       "      <th>SuperKEKBData.SuperKEKBStatus</th>\n",
       "      <th>SuperKEKBData.LERSTatus</th>\n",
       "      <th>SuperKEKBData.HERStatus</th>\n",
       "      <th>SuperKEKBData.LERInj</th>\n",
       "      <th>SuperKEKBData.HERInj</th>\n",
       "      <th>SuperKEKBData.LERBg</th>\n",
       "      <th>SuperKEKBData.HERBg</th>\n",
       "      <th>SuperKEKBData.LERCurrent</th>\n",
       "      <th>SuperKEKBData.HERCurrent</th>\n",
       "      <th>Date</th>\n",
       "    </tr>\n",
       "  </thead>\n",
       "  <tbody>\n",
       "    <tr>\n",
       "      <th>33</th>\n",
       "      <td>33</td>\n",
       "      <td>400406001</td>\n",
       "      <td>1.463246e+09</td>\n",
       "      <td>Vacuum Scrubbing</td>\n",
       "      <td>Vacuum Scrubbing</td>\n",
       "      <td>Vacuum Scrubbing</td>\n",
       "      <td>0.0</td>\n",
       "      <td>25.0</td>\n",
       "      <td>0</td>\n",
       "      <td>1</td>\n",
       "      <td>NaN</td>\n",
       "      <td>NaN</td>\n",
       "      <td>2016-05-15 02:17:06.177794933+00:00</td>\n",
       "    </tr>\n",
       "    <tr>\n",
       "      <th>34</th>\n",
       "      <td>34</td>\n",
       "      <td>400406002</td>\n",
       "      <td>1.463246e+09</td>\n",
       "      <td>Vacuum Scrubbing</td>\n",
       "      <td>Vacuum Scrubbing</td>\n",
       "      <td>Vacuum Scrubbing</td>\n",
       "      <td>0.0</td>\n",
       "      <td>25.0</td>\n",
       "      <td>0</td>\n",
       "      <td>1</td>\n",
       "      <td>NaN</td>\n",
       "      <td>NaN</td>\n",
       "      <td>2016-05-15 02:17:15.035301447+00:00</td>\n",
       "    </tr>\n",
       "    <tr>\n",
       "      <th>35</th>\n",
       "      <td>35</td>\n",
       "      <td>400406003</td>\n",
       "      <td>1.463246e+09</td>\n",
       "      <td>Vacuum Scrubbing</td>\n",
       "      <td>Vacuum Scrubbing</td>\n",
       "      <td>Vacuum Scrubbing</td>\n",
       "      <td>0.0</td>\n",
       "      <td>25.0</td>\n",
       "      <td>0</td>\n",
       "      <td>1</td>\n",
       "      <td>NaN</td>\n",
       "      <td>NaN</td>\n",
       "      <td>2016-05-15 02:17:21.766686440+00:00</td>\n",
       "    </tr>\n",
       "    <tr>\n",
       "      <th>36</th>\n",
       "      <td>36</td>\n",
       "      <td>400406004</td>\n",
       "      <td>1.463246e+09</td>\n",
       "      <td>Vacuum Scrubbing</td>\n",
       "      <td>Vacuum Scrubbing</td>\n",
       "      <td>Vacuum Scrubbing</td>\n",
       "      <td>0.0</td>\n",
       "      <td>25.0</td>\n",
       "      <td>0</td>\n",
       "      <td>1</td>\n",
       "      <td>NaN</td>\n",
       "      <td>NaN</td>\n",
       "      <td>2016-05-15 02:17:29.452126026+00:00</td>\n",
       "    </tr>\n",
       "    <tr>\n",
       "      <th>37</th>\n",
       "      <td>37</td>\n",
       "      <td>400406005</td>\n",
       "      <td>1.463246e+09</td>\n",
       "      <td>Vacuum Scrubbing</td>\n",
       "      <td>Vacuum Scrubbing</td>\n",
       "      <td>Vacuum Scrubbing</td>\n",
       "      <td>0.0</td>\n",
       "      <td>25.0</td>\n",
       "      <td>0</td>\n",
       "      <td>1</td>\n",
       "      <td>NaN</td>\n",
       "      <td>NaN</td>\n",
       "      <td>2016-05-15 02:17:38.485642910+00:00</td>\n",
       "    </tr>\n",
       "  </tbody>\n",
       "</table>\n",
       "</div>"
      ],
      "text/plain": [
       "    Unnamed: 0  Properties.EventNr  Properties.UnixTime  \\\n",
       "33          33           400406001         1.463246e+09   \n",
       "34          34           400406002         1.463246e+09   \n",
       "35          35           400406003         1.463246e+09   \n",
       "36          36           400406004         1.463246e+09   \n",
       "37          37           400406005         1.463246e+09   \n",
       "\n",
       "   SuperKEKBData.SuperKEKBStatus SuperKEKBData.LERSTatus  \\\n",
       "33              Vacuum Scrubbing        Vacuum Scrubbing   \n",
       "34              Vacuum Scrubbing        Vacuum Scrubbing   \n",
       "35              Vacuum Scrubbing        Vacuum Scrubbing   \n",
       "36              Vacuum Scrubbing        Vacuum Scrubbing   \n",
       "37              Vacuum Scrubbing        Vacuum Scrubbing   \n",
       "\n",
       "   SuperKEKBData.HERStatus  SuperKEKBData.LERInj  SuperKEKBData.HERInj  \\\n",
       "33        Vacuum Scrubbing                   0.0                  25.0   \n",
       "34        Vacuum Scrubbing                   0.0                  25.0   \n",
       "35        Vacuum Scrubbing                   0.0                  25.0   \n",
       "36        Vacuum Scrubbing                   0.0                  25.0   \n",
       "37        Vacuum Scrubbing                   0.0                  25.0   \n",
       "\n",
       "    SuperKEKBData.LERBg  SuperKEKBData.HERBg  SuperKEKBData.LERCurrent  \\\n",
       "33                    0                    1                       NaN   \n",
       "34                    0                    1                       NaN   \n",
       "35                    0                    1                       NaN   \n",
       "36                    0                    1                       NaN   \n",
       "37                    0                    1                       NaN   \n",
       "\n",
       "    SuperKEKBData.HERCurrent                                Date  \n",
       "33                       NaN 2016-05-15 02:17:06.177794933+00:00  \n",
       "34                       NaN 2016-05-15 02:17:15.035301447+00:00  \n",
       "35                       NaN 2016-05-15 02:17:21.766686440+00:00  \n",
       "36                       NaN 2016-05-15 02:17:29.452126026+00:00  \n",
       "37                       NaN 2016-05-15 02:17:38.485642910+00:00  "
      ]
     },
     "execution_count": 31,
     "metadata": {},
     "output_type": "execute_result"
    }
   ],
   "source": [
    "df.head()"
   ]
  },
  {
   "cell_type": "code",
   "execution_count": 117,
   "metadata": {},
   "outputs": [
    {
     "name": "stdout",
     "output_type": "stream",
     "text": [
      "Min: \n",
      "2016-05-15 02:17:06.177794933+00:00\n",
      "Max: \n",
      "2016-06-28 04:31:06.702665329+00:00\n"
     ]
    },
    {
     "data": {
      "image/png": "[encoded data removed]",
      "text/plain": [
       "<Figure size 836.001x418 with 1 Axes>"
      ]
     },
     "metadata": {},
     "output_type": "display_data"
    }
   ],
   "source": [
    "# df_tmp = df[df['Date'] >= '2016-06-21']\n",
    "#df_tmp = df[df['SuperKEKBData.SuperKEKBStatus'] == 'Beam size measurement']\n",
    "#df_tmp = df[df['SuperKEKBData.SuperKEKBStatus'] =='Injection background  Study']\n",
    "df_tmp = df\n",
    "print(\"Min: \")\n",
    "print(df_tmp['Date'].min())\n",
    "print(\"Max: \")\n",
    "print(df_tmp['Date'].max())\n",
    "flatui = [\"#9b59b6\", \"#3498db\", \"#95a5a6\", \"#e74c3c\", \"#34495e\", \"#2ecc71\"]\n",
    "palette = sns.color_palette('tab20')\n",
    "#plt.figure(figsize=(5.8055602,2.9))\n",
    "sns.set(font_scale=1.4, style='ticks')\n",
    "#sns.despine(left=True)\n",
    "#fg = sns.stripplot(x='Date', y='SuperKEKBData.SuperKEKBStatus', data=df_tmp, orient='h')\n",
    "fg = sns.catplot(x='Date', y='SuperKEKBData.SuperKEKBStatus', height =5.8055602, aspect=2, data=df_tmp,palette=palette, marker=',')\n",
    "fg.set_ylabels('SuperKEKB Status')\n",
    "fg.set(xlim=('2016-05-14','2016-06-28 23:59'))\n",
    "#fg.set(xlim=(df_tmp['Date'].min(),df_tmp['Date'].max()))\n",
    "fg.savefig('superkekbstatus_over_time.pdf', bbox_inches='tight')"
   ]
  },
  {
   "cell_type": "code",
   "execution_count": 109,
   "metadata": {},
   "outputs": [
    {
     "data": {
      "image/png": "[encoded data removed]",
      "text/plain": [
       "<Figure size 1254x418 with 1 Axes>"
      ]
     },
     "metadata": {},
     "output_type": "display_data"
    }
   ],
   "source": [
    "# plt.figure(figsize=(16,4))\n",
    "# sns.catplot(x='Date', y='SuperKEKBData.LERSTatus', data=df, aspect=3, jitter=1.)\n",
    "\n",
    "palette = sns.color_palette('tab20')\n",
    "#plt.figure(figsize=(5.8055602,2.9))\n",
    "sns.set(font_scale=1, style='ticks')\n",
    "#sns.despine(left=True)\n",
    "#fg = sns.stripplot(x='Date', y='SuperKEKBData.SuperKEKBStatus', data=df_tmp, orient='h')\n",
    "fg = sns.catplot(x='Date', y='SuperKEKBData.LERSTatus', height =5.8055602, aspect=3, data=df_tmp,palette=palette, marker=',')\n",
    "fg.set_ylabels('SuperKEKB Status')\n",
    "fg.set(xlim=('2016-05-14','2016-06-28 23:59'))\n",
    "#fg.set(xlim=(df_tmp['Date'].min(),df_tmp['Date'].max()))\n",
    "fg.savefig('superkekb_lerstatus_over_time.pdf', bbox_inches='tight')"
   ]
  },
  {
   "cell_type": "code",
   "execution_count": 110,
   "metadata": {},
   "outputs": [
    {
     "data": {
      "image/png": "[encoded data removed]",
      "text/plain": [
       "<Figure size 1254x418 with 1 Axes>"
      ]
     },
     "metadata": {},
     "output_type": "display_data"
    }
   ],
   "source": [
    "# plt.figure(figsize=(16,4))\n",
    "# sns.catplot(x='Date', y='SuperKEKBData.HERStatus', data=df, aspect=3)\n",
    "\n",
    "palette = sns.color_palette('tab20')\n",
    "#plt.figure(figsize=(5.8055602,2.9))\n",
    "sns.set(font_scale=1, style='ticks')\n",
    "#sns.despine(left=True)\n",
    "#fg = sns.stripplot(x='Date', y='SuperKEKBData.SuperKEKBStatus', data=df_tmp, orient='h')\n",
    "fg = sns.catplot(x='Date', y='SuperKEKBData.HERStatus', height =5.8055602, aspect=3, data=df_tmp,palette=palette, marker=',')\n",
    "fg.set_ylabels('SuperKEKB Status')\n",
    "fg.set(xlim=('2016-05-14','2016-06-28 23:59'))\n",
    "#fg.set(xlim=(df_tmp['Date'].min(),df_tmp['Date'].max()))\n",
    "fg.savefig('superkekb_herstatus_over_time.pdf', bbox_inches='tight')"
   ]
  },
  {
   "cell_type": "code",
   "execution_count": 8,
   "metadata": {},
   "outputs": [
    {
     "name": "stdout",
     "output_type": "stream",
     "text": [
      "Min timestamp:\n",
      "2016-05-14 17:17:06.177794933\n",
      "Max timestamp:\n",
      "2016-06-27 19:31:06.702665329\n"
     ]
    }
   ],
   "source": [
    "print(\"Min timestamp:\")\n",
    "print(pd.to_datetime(df['Properties.UnixTime'].min(),unit='s'))\n",
    "print(\"Max timestamp:\")\n",
    "print(pd.to_datetime(df['Properties.UnixTime'].max(),unit='s'))"
   ]
  },
  {
   "cell_type": "code",
   "execution_count": 141,
   "metadata": {},
   "outputs": [
    {
     "data": {
      "text/html": [
       "<div>\n",
       "<style scoped>\n",
       "    .dataframe tbody tr th:only-of-type {\n",
       "        vertical-align: middle;\n",
       "    }\n",
       "\n",
       "    .dataframe tbody tr th {\n",
       "        vertical-align: top;\n",
       "    }\n",
       "\n",
       "    .dataframe thead th {\n",
       "        text-align: right;\n",
       "    }\n",
       "</style>\n",
       "<table border=\"1\" class=\"dataframe\">\n",
       "  <thead>\n",
       "    <tr style=\"text-align: right;\">\n",
       "      <th></th>\n",
       "      <th>Unnamed: 0</th>\n",
       "      <th>Properties.EventNr</th>\n",
       "      <th>Properties.UnixTime</th>\n",
       "      <th>SuperKEKBData.SuperKEKBStatus</th>\n",
       "      <th>SuperKEKBData.LERSTatus</th>\n",
       "      <th>SuperKEKBData.HERStatus</th>\n",
       "      <th>SuperKEKBData.LERInj</th>\n",
       "      <th>SuperKEKBData.HERInj</th>\n",
       "      <th>SuperKEKBData.LERBg</th>\n",
       "      <th>SuperKEKBData.HERBg</th>\n",
       "      <th>SuperKEKBData.LERCurrent</th>\n",
       "      <th>SuperKEKBData.HERCurrent</th>\n",
       "      <th>Date</th>\n",
       "    </tr>\n",
       "  </thead>\n",
       "  <tbody>\n",
       "    <tr>\n",
       "      <th>49172</th>\n",
       "      <td>49172</td>\n",
       "      <td>401266228</td>\n",
       "      <td>1.467056e+09</td>\n",
       "      <td>Beam size measurement</td>\n",
       "      <td>Beam size measurement</td>\n",
       "      <td>NaN</td>\n",
       "      <td>1.0</td>\n",
       "      <td>0.0</td>\n",
       "      <td>0</td>\n",
       "      <td>0</td>\n",
       "      <td>0.013787</td>\n",
       "      <td>-0.024287</td>\n",
       "      <td>2016-06-28 04:30:36.474936485+00:00</td>\n",
       "    </tr>\n",
       "    <tr>\n",
       "      <th>49173</th>\n",
       "      <td>49173</td>\n",
       "      <td>401266229</td>\n",
       "      <td>1.467056e+09</td>\n",
       "      <td>Beam size measurement</td>\n",
       "      <td>Beam size measurement</td>\n",
       "      <td>NaN</td>\n",
       "      <td>1.0</td>\n",
       "      <td>0.0</td>\n",
       "      <td>0</td>\n",
       "      <td>0</td>\n",
       "      <td>0.016787</td>\n",
       "      <td>-0.025287</td>\n",
       "      <td>2016-06-28 04:30:45.059427261+00:00</td>\n",
       "    </tr>\n",
       "    <tr>\n",
       "      <th>49174</th>\n",
       "      <td>49174</td>\n",
       "      <td>401266230</td>\n",
       "      <td>1.467056e+09</td>\n",
       "      <td>Beam size measurement</td>\n",
       "      <td>Beam size measurement</td>\n",
       "      <td>NaN</td>\n",
       "      <td>1.0</td>\n",
       "      <td>0.0</td>\n",
       "      <td>0</td>\n",
       "      <td>0</td>\n",
       "      <td>-0.002413</td>\n",
       "      <td>-0.024287</td>\n",
       "      <td>2016-06-28 04:30:51.786811829+00:00</td>\n",
       "    </tr>\n",
       "    <tr>\n",
       "      <th>49175</th>\n",
       "      <td>49175</td>\n",
       "      <td>401266231</td>\n",
       "      <td>1.467056e+09</td>\n",
       "      <td>Beam size measurement</td>\n",
       "      <td>Beam size measurement</td>\n",
       "      <td>NaN</td>\n",
       "      <td>1.0</td>\n",
       "      <td>0.0</td>\n",
       "      <td>0</td>\n",
       "      <td>0</td>\n",
       "      <td>-0.008413</td>\n",
       "      <td>-0.026287</td>\n",
       "      <td>2016-06-28 04:30:58.512197017+00:00</td>\n",
       "    </tr>\n",
       "    <tr>\n",
       "      <th>49176</th>\n",
       "      <td>49176</td>\n",
       "      <td>401266232</td>\n",
       "      <td>1.467056e+09</td>\n",
       "      <td>Beam size measurement</td>\n",
       "      <td>Beam size measurement</td>\n",
       "      <td>NaN</td>\n",
       "      <td>1.0</td>\n",
       "      <td>0.0</td>\n",
       "      <td>0</td>\n",
       "      <td>0</td>\n",
       "      <td>0.007688</td>\n",
       "      <td>-0.022187</td>\n",
       "      <td>2016-06-28 04:31:06.702665329+00:00</td>\n",
       "    </tr>\n",
       "  </tbody>\n",
       "</table>\n",
       "</div>"
      ],
      "text/plain": [
       "       Unnamed: 0  Properties.EventNr  Properties.UnixTime  \\\n",
       "49172       49172           401266228         1.467056e+09   \n",
       "49173       49173           401266229         1.467056e+09   \n",
       "49174       49174           401266230         1.467056e+09   \n",
       "49175       49175           401266231         1.467056e+09   \n",
       "49176       49176           401266232         1.467056e+09   \n",
       "\n",
       "      SuperKEKBData.SuperKEKBStatus SuperKEKBData.LERSTatus  \\\n",
       "49172         Beam size measurement   Beam size measurement   \n",
       "49173         Beam size measurement   Beam size measurement   \n",
       "49174         Beam size measurement   Beam size measurement   \n",
       "49175         Beam size measurement   Beam size measurement   \n",
       "49176         Beam size measurement   Beam size measurement   \n",
       "\n",
       "      SuperKEKBData.HERStatus  SuperKEKBData.LERInj  SuperKEKBData.HERInj  \\\n",
       "49172                     NaN                   1.0                   0.0   \n",
       "49173                     NaN                   1.0                   0.0   \n",
       "49174                     NaN                   1.0                   0.0   \n",
       "49175                     NaN                   1.0                   0.0   \n",
       "49176                     NaN                   1.0                   0.0   \n",
       "\n",
       "       SuperKEKBData.LERBg  SuperKEKBData.HERBg  SuperKEKBData.LERCurrent  \\\n",
       "49172                    0                    0                  0.013787   \n",
       "49173                    0                    0                  0.016787   \n",
       "49174                    0                    0                 -0.002413   \n",
       "49175                    0                    0                 -0.008413   \n",
       "49176                    0                    0                  0.007688   \n",
       "\n",
       "       SuperKEKBData.HERCurrent                                Date  \n",
       "49172                 -0.024287 2016-06-28 04:30:36.474936485+00:00  \n",
       "49173                 -0.025287 2016-06-28 04:30:45.059427261+00:00  \n",
       "49174                 -0.024287 2016-06-28 04:30:51.786811829+00:00  \n",
       "49175                 -0.026287 2016-06-28 04:30:58.512197017+00:00  \n",
       "49176                 -0.022187 2016-06-28 04:31:06.702665329+00:00  "
      ]
     },
     "execution_count": 141,
     "metadata": {},
     "output_type": "execute_result"
    }
   ],
   "source": [
    "df.tail()"
   ]
  },
  {
   "cell_type": "code",
   "execution_count": 160,
   "metadata": {},
   "outputs": [
    {
     "data": {
      "text/plain": [
       "<matplotlib.axes._subplots.AxesSubplot at 0x7f1ef2e68a90>"
      ]
     },
     "execution_count": 160,
     "metadata": {},
     "output_type": "execute_result"
    },
    {
     "data": {
      "image/png": "[encoded data removed]",
      "text/plain": [
       "<Figure size 864x576 with 1 Axes>"
      ]
     },
     "metadata": {},
     "output_type": "display_data"
    }
   ],
   "source": [
    "df_tmp = df[(df['Date']>='2016-06-27')&(df['Properties.EventNr']>=401255000)&(df['Properties.EventNr']<=401256000)]\n",
    "#df_tmp = df[df['Date']>='2016-06-27']\n",
    "df_tmp.plot(x='Properties.EventNr',y='SuperKEKBData.HERCurrent',figsize=(12,8))"
   ]
  },
  {
   "cell_type": "code",
   "execution_count": 31,
   "metadata": {},
   "outputs": [
    {
     "data": {
      "text/plain": [
       "(124308, 12)"
      ]
     },
     "execution_count": 31,
     "metadata": {},
     "output_type": "execute_result"
    }
   ],
   "source": [
    "lim = 1\n",
    "df[(df['SuperKEKBData.HERCurrent']<lim)&(df['SuperKEKBData.LERCurrent']<lim)&(df['SuperKEKBData.LERInj']==0)&(df['SuperKEKBData.HERInj']==0)].shape"
   ]
  },
  {
   "cell_type": "code",
   "execution_count": 32,
   "metadata": {},
   "outputs": [
    {
     "data": {
      "text/plain": [
       "(126686, 12)"
      ]
     },
     "execution_count": 32,
     "metadata": {},
     "output_type": "execute_result"
    }
   ],
   "source": [
    "df[(df['SuperKEKBData.HERCurrent']<lim)&(df['SuperKEKBData.LERCurrent']<lim)].shape"
   ]
  },
  {
   "cell_type": "code",
   "execution_count": 127,
   "metadata": {},
   "outputs": [
    {
     "data": {
      "text/plain": [
       "Unnamed: 0                       10669\n",
       "Properties.EventNr               10669\n",
       "Properties.UnixTime              10669\n",
       "SuperKEKBData.SuperKEKBStatus    10669\n",
       "SuperKEKBData.LERSTatus          10669\n",
       "SuperKEKBData.HERStatus          10669\n",
       "SuperKEKBData.LERInj             10669\n",
       "SuperKEKBData.HERInj             10669\n",
       "SuperKEKBData.LERBg              10669\n",
       "SuperKEKBData.HERBg              10669\n",
       "SuperKEKBData.LERCurrent         10581\n",
       "SuperKEKBData.HERCurrent         10581\n",
       "Date                             10669\n",
       "dtype: int64"
      ]
     },
     "execution_count": 127,
     "metadata": {},
     "output_type": "execute_result"
    }
   ],
   "source": [
    "df[(df['SuperKEKBData.SuperKEKBStatus'] =='Vacuum Scrubbing')&(df['SuperKEKBData.LERSTatus'] =='Vacuum Scrubbing')&(df['SuperKEKBData.HERStatus'] =='Vacuum Scrubbing')].count()"
   ]
  }
 ],
 "metadata": {
  "kernelspec": {
   "display_name": "Python 3",
   "language": "python",
   "name": "python3"
  },
  "language_info": {
   "codemirror_mode": {
    "name": "ipython",
    "version": 3
   },
   "file_extension": ".py",
   "mimetype": "text/x-python",
   "name": "python",
   "nbconvert_exporter": "python",
   "pygments_lexer": "ipython3",
   "version": "3.5.2"
  }
 },
 "nbformat": 4,
 "nbformat_minor": 2
}
