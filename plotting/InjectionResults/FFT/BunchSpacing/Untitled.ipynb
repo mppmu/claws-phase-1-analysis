{
 "cells": [
  {
   "cell_type": "code",
   "execution_count": 2,
   "metadata": {},
   "outputs": [],
   "source": [
    "import ROOT"
   ]
  },
  {
   "cell_type": "code",
   "execution_count": 6,
   "metadata": {},
   "outputs": [
    {
     "data": {
      "text/plain": [
       "-1"
      ]
     },
     "execution_count": 6,
     "metadata": {},
     "output_type": "execute_result"
    },
    {
     "name": "stderr",
     "output_type": "stream",
     "text": [
      "In file included from input_line_39:1:\n",
      "\u001b[1m/home/iwsatlas1/mgabriel/workspace/Ploting/PhD_Thesis/phd_style.C:54:18: \u001b[0m\u001b[0;1;31merror: \u001b[0m\u001b[1muse of undeclared identifier 'vis_multi'\u001b[0m\n",
      "  Double_t tsize=vis_multi*textsize*pt2pixel;\n",
      "\u001b[0;1;32m                 ^\n",
      "\u001b[0m\u001b[1m/home/iwsatlas1/mgabriel/workspace/Ploting/PhD_Thesis/phd_style.C:54:28: \u001b[0m\u001b[0;1;31merror: \u001b[0m\u001b[1muse of undeclared identifier 'textsize'\u001b[0m\n",
      "  Double_t tsize=vis_multi*textsize*pt2pixel;\n",
      "\u001b[0;1;32m                           ^\n",
      "\u001b[0m\u001b[1m/home/iwsatlas1/mgabriel/workspace/Ploting/PhD_Thesis/phd_style.C:54:37: \u001b[0m\u001b[0;1;31merror: \u001b[0m\u001b[1muse of undeclared identifier 'pt2pixel'\u001b[0m\n",
      "  Double_t tsize=vis_multi*textsize*pt2pixel;\n",
      "\u001b[0;1;32m                                    ^\n",
      "\u001b[0m"
     ]
    }
   ],
   "source": [
    "ROOT.gROOT.LoadMacro(\"/home/iwsatlas1/mgabriel/workspace/Ploting/PhD_Thesis/phd_style.C\")\n"
   ]
  },
  {
   "cell_type": "code",
   "execution_count": null,
   "metadata": {},
   "outputs": [],
   "source": []
  }
 ],
 "metadata": {
  "kernelspec": {
   "display_name": "Python 3",
   "language": "python",
   "name": "python3"
  },
  "language_info": {
   "codemirror_mode": {
    "name": "ipython",
    "version": 3
   },
   "file_extension": ".py",
   "mimetype": "text/x-python",
   "name": "python",
   "nbconvert_exporter": "python",
   "pygments_lexer": "ipython3",
   "version": "3.5.2"
  }
 },
 "nbformat": 4,
 "nbformat_minor": 2
}
