{
 "cells": [
  {
   "cell_type": "code",
   "execution_count": 1,
   "metadata": {},
   "outputs": [],
   "source": [
    "import sympy"
   ]
  },
  {
   "cell_type": "code",
   "execution_count": 2,
   "metadata": {},
   "outputs": [],
   "source": [
    "gamma = sympy.symbols('gamma', real=True, positive=True, finite=True)"
   ]
  },
  {
   "cell_type": "code",
   "execution_count": 107,
   "metadata": {},
   "outputs": [],
   "source": [
    "# a,b,c,d,e,f,g,h,i = sympy.symbols('a, b, c, d, e, f, g, h, i', real=True, finite=True)\n",
    "a, e, f = sympy.symbols('a, e, f', real=True, positive=True, finite=True)\n",
    "c, d, g, h = sympy.symbols('c, d, g, h', real=True, negative=True, finite=True)\n",
    "b, i = sympy.symbols('b, i', real=True, finite=True)\n",
    "\n",
    "u, v = sympy.symbols('u, v', real=True, positive=True, finite=True)\n",
    "\n",
    "x, y = sympy.symbols('x, y', real=True)"
   ]
  },
  {
   "cell_type": "code",
   "execution_count": 251,
   "metadata": {},
   "outputs": [
    {
     "data": {
      "image/png": "[encoded data removed]",
      "text/latex": [
       "$$\\frac{a}{- b + x} + c$$"
      ],
      "text/plain": [
       "  a       \n",
       "────── + c\n",
       "-b + x    "
      ]
     },
     "metadata": {},
     "output_type": "display_data"
    },
    {
     "data": {
      "image/png": "[encoded data removed]",
      "text/latex": [
       "$$d$$"
      ],
      "text/plain": [
       "d"
      ]
     },
     "metadata": {},
     "output_type": "display_data"
    },
    {
     "data": {
      "image/png": "[encoded data removed]",
      "text/latex": [
       "$$g e^{h \\left(- i + x\\right)}$$"
      ],
      "text/plain": [
       "   h⋅(-i + x)\n",
       "g⋅ℯ          "
      ]
     },
     "metadata": {},
     "output_type": "display_data"
    }
   ],
   "source": [
    "one = a/(x-b) + c\n",
    "\n",
    "#two = d*sympy.exp(-(x-e)**2/f**2)\n",
    "two = d\n",
    "three = g*sympy.exp(h*(x-i))\n",
    "\n",
    "display(one)\n",
    "display(two)\n",
    "display(three)"
   ]
  },
  {
   "cell_type": "code",
   "execution_count": 252,
   "metadata": {},
   "outputs": [
    {
     "data": {
      "image/png": "[encoded data removed]",
      "text/latex": [
       "$$- \\frac{a}{\\left(- b + x\\right)^{2}}$$"
      ],
      "text/plain": [
       "   -a    \n",
       "─────────\n",
       "        2\n",
       "(-b + x) "
      ]
     },
     "metadata": {},
     "output_type": "display_data"
    },
    {
     "data": {
      "image/png": "[encoded data removed]",
      "text/latex": [
       "$$0$$"
      ],
      "text/plain": [
       "0"
      ]
     },
     "metadata": {},
     "output_type": "display_data"
    },
    {
     "data": {
      "image/png": "[encoded data removed]",
      "text/latex": [
       "$$g h e^{h \\left(- i + x\\right)}$$"
      ],
      "text/plain": [
       "     h⋅(-i + x)\n",
       "g⋅h⋅ℯ          "
      ]
     },
     "metadata": {},
     "output_type": "display_data"
    }
   ],
   "source": [
    "d_one = one.diff(x)\n",
    "d_two = two.diff(x)\n",
    "d_three = three.diff(x)\n",
    "\n",
    "display(d_one)\n",
    "display(d_two)\n",
    "display(d_three)"
   ]
  },
  {
   "cell_type": "code",
   "execution_count": 253,
   "metadata": {},
   "outputs": [],
   "source": [
    "eq1 = sympy.Eq(one.subs({x:u}), two.subs({x:u}))\n",
    "eq2 = sympy.Eq(d_one.subs({x:u}), d_two.subs({x:u}))\n",
    "\n",
    "eq3 = sympy.Eq(two.subs({x:v}), three.subs({x:v}))\n",
    "eq4 = sympy.Eq(d_two.subs({x:v}), d_three.subs({x:v}))"
   ]
  },
  {
   "cell_type": "code",
   "execution_count": 189,
   "metadata": {},
   "outputs": [],
   "source": [
    "eq1 = sympy.Eq(one.subs({x:1200}), two.subs({x:1200}))\n",
    "eq2 = sympy.Eq(d_one.subs({x:1200}), d_two.subs({x:1200}))\n",
    "\n",
    "eq3 = sympy.Eq(two.subs({x:2500}), three.subs({x:2500}))\n",
    "eq4 = sympy.Eq(d_two.subs({x:2500}), d_three.subs({x:2500}))"
   ]
  },
  {
   "cell_type": "code",
   "execution_count": 254,
   "metadata": {},
   "outputs": [],
   "source": [
    "sympy.init_printing()\n",
    "from IPython.display import display"
   ]
  },
  {
   "cell_type": "code",
   "execution_count": 255,
   "metadata": {},
   "outputs": [
    {
     "data": {
      "image/png": "[encoded data removed]",
      "text/latex": [
       "$$\\frac{a}{- b + u} + c = d$$"
      ],
      "text/plain": [
       "  a           \n",
       "────── + c = d\n",
       "-b + u        "
      ]
     },
     "execution_count": 255,
     "metadata": {},
     "output_type": "execute_result"
    }
   ],
   "source": [
    "eq1"
   ]
  },
  {
   "cell_type": "code",
   "execution_count": 262,
   "metadata": {},
   "outputs": [
    {
     "data": {
      "image/png": "[encoded data removed]",
      "text/latex": [
       "$$\\mathrm{False}$$"
      ],
      "text/plain": [
       "False"
      ]
     },
     "execution_count": 262,
     "metadata": {},
     "output_type": "execute_result"
    }
   ],
   "source": [
    "eq2"
   ]
  },
  {
   "cell_type": "code",
   "execution_count": 257,
   "metadata": {},
   "outputs": [
    {
     "data": {
      "image/png": "[encoded data removed]",
      "text/latex": [
       "$$d = g e^{h \\left(- i + v\\right)}$$"
      ],
      "text/plain": [
       "       h⋅(-i + v)\n",
       "d = g⋅ℯ          "
      ]
     },
     "execution_count": 257,
     "metadata": {},
     "output_type": "execute_result"
    }
   ],
   "source": [
    "eq3"
   ]
  },
  {
   "cell_type": "code",
   "execution_count": 258,
   "metadata": {},
   "outputs": [
    {
     "data": {
      "image/png": "[encoded data removed]",
      "text/latex": [
       "$$\\mathrm{False}$$"
      ],
      "text/plain": [
       "False"
      ]
     },
     "execution_count": 258,
     "metadata": {},
     "output_type": "execute_result"
    }
   ],
   "source": [
    "eq4"
   ]
  },
  {
   "cell_type": "markdown",
   "metadata": {},
   "source": [
    "# Here come the solutions:"
   ]
  },
  {
   "cell_type": "code",
   "execution_count": 263,
   "metadata": {
    "scrolled": true
   },
   "outputs": [
    {
     "data": {
      "image/png": "[encoded data removed]",
      "text/latex": [
       "$$\\left [ \\left \\{ a : b c - b d - c u + d u\\right \\}\\right ]$$"
      ],
      "text/plain": [
       "[{a: b⋅c - b⋅d - c⋅u + d⋅u}]"
      ]
     },
     "metadata": {},
     "output_type": "display_data"
    },
    {
     "data": {
      "image/png": "[encoded data removed]",
      "text/latex": [
       "$$\\left [ \\left \\{ b : \\frac{1}{c - d} \\left(a + c u - d u\\right)\\right \\}\\right ]$$"
      ],
      "text/plain": [
       "⎡⎧   a + c⋅u - d⋅u⎫⎤\n",
       "⎢⎨b: ─────────────⎬⎥\n",
       "⎣⎩       c - d    ⎭⎦"
      ]
     },
     "metadata": {},
     "output_type": "display_data"
    },
    {
     "data": {
      "image/png": "[encoded data removed]",
      "text/latex": [
       "$$\\left [ \\left \\{ c : \\frac{1}{b - u} \\left(a + b d - d u\\right)\\right \\}\\right ]$$"
      ],
      "text/plain": [
       "⎡⎧   a + b⋅d - d⋅u⎫⎤\n",
       "⎢⎨c: ─────────────⎬⎥\n",
       "⎣⎩       b - u    ⎭⎦"
      ]
     },
     "metadata": {},
     "output_type": "display_data"
    },
    {
     "data": {
      "image/png": "[encoded data removed]",
      "text/latex": [
       "$$\\left [ \\left \\{ d : \\frac{1}{b - u} \\left(- a + b c - c u\\right)\\right \\}\\right ]$$"
      ],
      "text/plain": [
       "⎡⎧   -a + b⋅c - c⋅u⎫⎤\n",
       "⎢⎨d: ──────────────⎬⎥\n",
       "⎣⎩       b - u     ⎭⎦"
      ]
     },
     "metadata": {},
     "output_type": "display_data"
    },
    {
     "data": {
      "image/png": "[encoded data removed]",
      "text/latex": [
       "$$\\left [ \\right ]$$"
      ],
      "text/plain": [
       "[]"
      ]
     },
     "metadata": {},
     "output_type": "display_data"
    },
    {
     "data": {
      "image/png": "[encoded data removed]",
      "text/latex": [
       "$$\\left [ \\right ]$$"
      ],
      "text/plain": [
       "[]"
      ]
     },
     "metadata": {},
     "output_type": "display_data"
    }
   ],
   "source": [
    "# equation 1\n",
    "for idx in [a,b,c,d,e,f]:\n",
    "    display(sympy.solve(eq1,idx, dict=True))"
   ]
  },
  {
   "cell_type": "code",
   "execution_count": 264,
   "metadata": {},
   "outputs": [
    {
     "data": {
      "image/png": "[encoded data removed]",
      "text/latex": [
       "$$\\mathrm{False}$$"
      ],
      "text/plain": [
       "False"
      ]
     },
     "metadata": {},
     "output_type": "display_data"
    },
    {
     "data": {
      "image/png": "[encoded data removed]",
      "text/latex": [
       "$$\\mathrm{False}$$"
      ],
      "text/plain": [
       "False"
      ]
     },
     "metadata": {},
     "output_type": "display_data"
    },
    {
     "data": {
      "image/png": "[encoded data removed]",
      "text/latex": [
       "$$\\mathrm{False}$$"
      ],
      "text/plain": [
       "False"
      ]
     },
     "metadata": {},
     "output_type": "display_data"
    },
    {
     "data": {
      "image/png": "[encoded data removed]",
      "text/latex": [
       "$$\\mathrm{False}$$"
      ],
      "text/plain": [
       "False"
      ]
     },
     "metadata": {},
     "output_type": "display_data"
    }
   ],
   "source": [
    "# equation 2\n",
    "for idx in [a,b,c,d]:\n",
    "    display(sympy.solve(eq2,idx, dict=True))"
   ]
  },
  {
   "cell_type": "code",
   "execution_count": 260,
   "metadata": {},
   "outputs": [
    {
     "data": {
      "image/png": "[encoded data removed]",
      "text/latex": [
       "$$\\mathrm{False}$$"
      ],
      "text/plain": [
       "False"
      ]
     },
     "metadata": {},
     "output_type": "display_data"
    },
    {
     "data": {
      "image/png": "[encoded data removed]",
      "text/latex": [
       "$$\\mathrm{False}$$"
      ],
      "text/plain": [
       "False"
      ]
     },
     "metadata": {},
     "output_type": "display_data"
    },
    {
     "data": {
      "image/png": "[encoded data removed]",
      "text/latex": [
       "$$\\mathrm{False}$$"
      ],
      "text/plain": [
       "False"
      ]
     },
     "metadata": {},
     "output_type": "display_data"
    },
    {
     "data": {
      "image/png": "[encoded data removed]",
      "text/latex": [
       "$$\\mathrm{False}$$"
      ],
      "text/plain": [
       "False"
      ]
     },
     "metadata": {},
     "output_type": "display_data"
    },
    {
     "data": {
      "image/png": "[encoded data removed]",
      "text/latex": [
       "$$\\mathrm{False}$$"
      ],
      "text/plain": [
       "False"
      ]
     },
     "metadata": {},
     "output_type": "display_data"
    },
    {
     "data": {
      "image/png": "[encoded data removed]",
      "text/latex": [
       "$$\\mathrm{False}$$"
      ],
      "text/plain": [
       "False"
      ]
     },
     "metadata": {},
     "output_type": "display_data"
    }
   ],
   "source": [
    "# equation 1 & 2\n",
    "for idx in [a,b,c,d,e,f]:\n",
    "    display(sympy.solve([eq1,eq2],idx, dict=True))"
   ]
  },
  {
   "cell_type": "code",
   "execution_count": 261,
   "metadata": {},
   "outputs": [
    {
     "data": {
      "image/png": "[encoded data removed]",
      "text/latex": [
       "$$\\left [ \\left \\{ d : g e^{h \\left(- i + v\\right)}\\right \\}\\right ]$$"
      ],
      "text/plain": [
       "⎡⎧      h⋅(-i + v)⎫⎤\n",
       "⎢⎨d: g⋅ℯ          ⎬⎥\n",
       "⎣⎩                ⎭⎦"
      ]
     },
     "metadata": {},
     "output_type": "display_data"
    },
    {
     "data": {
      "image/png": "[encoded data removed]",
      "text/latex": [
       "$$\\left [ \\right ]$$"
      ],
      "text/plain": [
       "[]"
      ]
     },
     "metadata": {},
     "output_type": "display_data"
    },
    {
     "data": {
      "image/png": "[encoded data removed]",
      "text/latex": [
       "$$\\left [ \\right ]$$"
      ],
      "text/plain": [
       "[]"
      ]
     },
     "metadata": {},
     "output_type": "display_data"
    },
    {
     "data": {
      "image/png": "[encoded data removed]",
      "text/latex": [
       "$$\\left [ \\left \\{ g : d e^{h \\left(i - v\\right)}\\right \\}\\right ]$$"
      ],
      "text/plain": [
       "⎡⎧      h⋅(i - v)⎫⎤\n",
       "⎢⎨g: d⋅ℯ         ⎬⎥\n",
       "⎣⎩               ⎭⎦"
      ]
     },
     "metadata": {},
     "output_type": "display_data"
    },
    {
     "data": {
      "image/png": "[encoded data removed]",
      "text/latex": [
       "$$\\left [ \\left \\{ h : - \\log{\\left (\\left(\\frac{d}{g}\\right)^{\\frac{1}{i - v}} \\right )}\\right \\}\\right ]$$"
      ],
      "text/plain": [
       "⎡⎧       ⎛     1  ⎞⎫⎤\n",
       "⎢⎪       ⎜   ─────⎟⎪⎥\n",
       "⎢⎪       ⎜   i - v⎟⎪⎥\n",
       "⎢⎨       ⎜⎛d⎞     ⎟⎬⎥\n",
       "⎢⎪h: -log⎜⎜─⎟     ⎟⎪⎥\n",
       "⎢⎪       ⎝⎝g⎠     ⎠⎪⎥\n",
       "⎣⎩                 ⎭⎦"
      ]
     },
     "metadata": {},
     "output_type": "display_data"
    },
    {
     "data": {
      "image/png": "[encoded data removed]",
      "text/latex": [
       "$$\\left [ \\left \\{ i : \\log{\\left (\\left(\\frac{g}{d} e^{h v}\\right)^{\\frac{1}{h}} \\right )}\\right \\}\\right ]$$"
      ],
      "text/plain": [
       "⎡⎧      ⎛     ________⎞⎫⎤\n",
       "⎢⎪      ⎜    ╱    h⋅v ⎟⎪⎥\n",
       "⎢⎨      ⎜   ╱  g⋅ℯ    ⎟⎬⎥\n",
       "⎢⎪i: log⎜h ╱   ────── ⎟⎪⎥\n",
       "⎣⎩      ⎝╲╱      d    ⎠⎭⎦"
      ]
     },
     "metadata": {},
     "output_type": "display_data"
    },
    {
     "data": {
      "image/png": "[encoded data removed]",
      "text/latex": [
       "$$\\left [ \\left \\{ v : - \\log{\\left (\\left(\\frac{g}{d} e^{- h i}\\right)^{\\frac{1}{h}} \\right )}\\right \\}\\right ]$$"
      ],
      "text/plain": [
       "⎡⎧       ⎛     _________⎞⎫⎤\n",
       "⎢⎪       ⎜    ╱    -h⋅i ⎟⎪⎥\n",
       "⎢⎨       ⎜   ╱  g⋅ℯ     ⎟⎬⎥\n",
       "⎢⎪v: -log⎜h ╱   ─────── ⎟⎪⎥\n",
       "⎣⎩       ⎝╲╱       d    ⎠⎭⎦"
      ]
     },
     "metadata": {},
     "output_type": "display_data"
    }
   ],
   "source": [
    "# equation 3\n",
    "for idx in [d,e,f,g,h,i,v]:\n",
    "    display(sympy.solve(eq3,idx, dict=True))"
   ]
  },
  {
   "cell_type": "code",
   "execution_count": 239,
   "metadata": {},
   "outputs": [
    {
     "data": {
      "image/png": "[encoded data removed]",
      "text/latex": [
       "$$\\left [ \\left \\{ d : \\frac{f^{2} g h}{2 e - 2 v} e^{- h i + h v + \\frac{1}{f^{2}} \\left(e - v\\right)^{2}}\\right \\}\\right ]$$"
      ],
      "text/plain": [
       "⎡⎧                               2⎫⎤\n",
       "⎢⎪                        (e - v) ⎪⎥\n",
       "⎢⎪           -h⋅i + h⋅v + ────────⎪⎥\n",
       "⎢⎪                            2   ⎪⎥\n",
       "⎢⎨    2                      f    ⎬⎥\n",
       "⎢⎪   f ⋅g⋅h⋅ℯ                     ⎪⎥\n",
       "⎢⎪d: ─────────────────────────────⎪⎥\n",
       "⎢⎪             2⋅e - 2⋅v          ⎪⎥\n",
       "⎣⎩                                ⎭⎦"
      ]
     },
     "metadata": {},
     "output_type": "display_data"
    },
    {
     "data": {
      "image/png": "[encoded data removed]",
      "text/latex": [
       "$$\\left [ \\left \\{ g : \\frac{2 d}{f^{2} h} \\left(e - v\\right) e^{h \\left(i - v\\right) - \\frac{1}{f^{2}} \\left(e - v\\right)^{2}}\\right \\}\\right ]$$"
      ],
      "text/plain": [
       "⎡⎧                                   2⎫⎤\n",
       "⎢⎪                            (e - v) ⎪⎥\n",
       "⎢⎪                h⋅(i - v) - ────────⎪⎥\n",
       "⎢⎪                                2   ⎪⎥\n",
       "⎢⎨                               f    ⎬⎥\n",
       "⎢⎪   2⋅d⋅(e - v)⋅ℯ                    ⎪⎥\n",
       "⎢⎪g: ─────────────────────────────────⎪⎥\n",
       "⎢⎪                   2                ⎪⎥\n",
       "⎣⎩                  f ⋅h              ⎭⎦"
      ]
     },
     "metadata": {},
     "output_type": "display_data"
    },
    {
     "data": {
      "image/png": "[encoded data removed]",
      "text/latex": [
       "$$\\left [ \\left \\{ h : - \\frac{1}{i - v} \\operatorname{LambertW}{\\left (- \\frac{2 d}{f^{2} g} \\left(e - v\\right) \\left(i - v\\right) e^{- \\frac{1}{f^{2}} \\left(e^{2} - 2 e v + v^{2}\\right)} \\right )}\\right \\}\\right ]$$"
      ],
      "text/plain": [
       "⎡⎧            ⎛                       ⎛ 2            2⎞  ⎞ ⎫⎤\n",
       "⎢⎪            ⎜                      -⎝e  - 2⋅e⋅v + v ⎠  ⎟ ⎪⎥\n",
       "⎢⎪            ⎜                      ─────────────────── ⎟ ⎪⎥\n",
       "⎢⎪            ⎜                                2         ⎟ ⎪⎥\n",
       "⎢⎪            ⎜                               f          ⎟ ⎪⎥\n",
       "⎢⎨            ⎜-2⋅d⋅(e - v)⋅(i - v)⋅ℯ                    ⎟ ⎬⎥\n",
       "⎢⎪   -LambertW⎜──────────────────────────────────────────⎟ ⎪⎥\n",
       "⎢⎪            ⎜                    2                     ⎟ ⎪⎥\n",
       "⎢⎪            ⎝                   f ⋅g                   ⎠ ⎪⎥\n",
       "⎢⎪h: ──────────────────────────────────────────────────────⎪⎥\n",
       "⎣⎩                           i - v                         ⎭⎦"
      ]
     },
     "metadata": {},
     "output_type": "display_data"
    },
    {
     "data": {
      "image/png": "[encoded data removed]",
      "text/latex": [
       "$$\\left [ \\left \\{ i : \\frac{1}{h} \\log{\\left (\\frac{f^{2} g h}{2 d \\left(e - v\\right)} e^{\\frac{e^{2}}{f^{2}} - \\frac{2 e}{f^{2}} v + h v + \\frac{v^{2}}{f^{2}}} \\right )}\\right \\}\\right ]$$"
      ],
      "text/plain": [
       "⎡⎧      ⎛         2                  2⎞⎫⎤\n",
       "⎢⎪      ⎜        e    2⋅e⋅v         v ⎟⎪⎥\n",
       "⎢⎪      ⎜        ── - ───── + h⋅v + ──⎟⎪⎥\n",
       "⎢⎪      ⎜         2      2           2⎟⎪⎥\n",
       "⎢⎪      ⎜ 2      f      f           f ⎟⎪⎥\n",
       "⎢⎨      ⎜f ⋅g⋅h⋅ℯ                     ⎟⎬⎥\n",
       "⎢⎪   log⎜─────────────────────────────⎟⎪⎥\n",
       "⎢⎪      ⎝         2⋅d⋅(e - v)         ⎠⎪⎥\n",
       "⎢⎪i: ──────────────────────────────────⎪⎥\n",
       "⎢⎪                   h                 ⎪⎥\n",
       "⎣⎩                                     ⎭⎦"
      ]
     },
     "metadata": {},
     "output_type": "display_data"
    }
   ],
   "source": [
    "# equation 4\n",
    "for idx in [d,g,h,i]:\n",
    "    display(sympy.solve(eq4,idx, dict=True))"
   ]
  },
  {
   "cell_type": "code",
   "execution_count": 240,
   "metadata": {},
   "outputs": [
    {
     "data": {
      "image/png": "[encoded data removed]",
      "text/latex": [
       "$$\\left [ \\right ]$$"
      ],
      "text/plain": [
       "[]"
      ]
     },
     "metadata": {},
     "output_type": "display_data"
    },
    {
     "data": {
      "image/png": "[encoded data removed]",
      "text/latex": [
       "$$\\left [ \\left \\{ e : - f \\sqrt{h i - h v - \\log{\\left (\\frac{g}{d} \\right )}} + v\\right \\}, \\quad \\left \\{ e : f \\sqrt{h i - h v - \\log{\\left (\\frac{g}{d} \\right )}} + v\\right \\}\\right ]$$"
      ],
      "text/plain": [
       "⎡⎧           ____________________    ⎫  ⎧         ____________________    ⎫⎤\n",
       "⎢⎪          ╱                ⎛g⎞     ⎪  ⎪        ╱                ⎛g⎞     ⎪⎥\n",
       "⎢⎨e: - f⋅  ╱  h⋅i - h⋅v - log⎜─⎟  + v⎬, ⎨e: f⋅  ╱  h⋅i - h⋅v - log⎜─⎟  + v⎬⎥\n",
       "⎢⎪       ╲╱                  ⎝d⎠     ⎪  ⎪     ╲╱                  ⎝d⎠     ⎪⎥\n",
       "⎣⎩                                   ⎭  ⎩                                 ⎭⎦"
      ]
     },
     "metadata": {},
     "output_type": "display_data"
    },
    {
     "data": {
      "image/png": "[encoded data removed]",
      "text/latex": [
       "$$\\left [ \\left \\{ f : \\sqrt{- \\frac{1}{- h i + h v + \\log{\\left (\\frac{g}{d} \\right )}}} \\left(- e + v\\right)\\right \\}, \\quad \\left \\{ f : \\sqrt{- \\frac{1}{- h i + h v + \\log{\\left (\\frac{g}{d} \\right )}}} \\left(e - v\\right)\\right \\}\\right ]$$"
      ],
      "text/plain": [
       "⎡⎧         _____________________         ⎫  ⎧         _____________________   \n",
       "⎢⎪        ╱         -1                   ⎪  ⎪        ╱         -1             \n",
       "⎢⎪f:     ╱  ─────────────────── ⋅(-e + v)⎪, ⎪f:     ╱  ─────────────────── ⋅(e\n",
       "⎢⎨      ╱                   ⎛g⎞          ⎬  ⎨      ╱                   ⎛g⎞    \n",
       "⎢⎪     ╱    -h⋅i + h⋅v + log⎜─⎟          ⎪  ⎪     ╱    -h⋅i + h⋅v + log⎜─⎟    \n",
       "⎢⎪   ╲╱                     ⎝d⎠          ⎪  ⎪   ╲╱                     ⎝d⎠    \n",
       "⎣⎩                                       ⎭  ⎩                                 \n",
       "\n",
       "     ⎫⎤\n",
       "     ⎪⎥\n",
       " - v)⎪⎥\n",
       "     ⎬⎥\n",
       "     ⎪⎥\n",
       "     ⎪⎥\n",
       "     ⎭⎦"
      ]
     },
     "metadata": {},
     "output_type": "display_data"
    },
    {
     "data": {
      "image/png": "[encoded data removed]",
      "text/latex": [
       "$$\\left [ \\right ]$$"
      ],
      "text/plain": [
       "[]"
      ]
     },
     "metadata": {},
     "output_type": "display_data"
    },
    {
     "data": {
      "image/png": "[encoded data removed]",
      "text/latex": [
       "$$\\left [ \\left \\{ h : \\frac{1}{f^{2} \\left(i - v\\right)} \\left(e^{2} - 2 e v + v^{2} - \\log{\\left (\\left(- d\\right)^{f^{2}} \\left(- g\\right)^{- f^{2}} \\right )}\\right)\\right \\}\\right ]$$"
      ],
      "text/plain": [
       "⎡⎧                        ⎛    ⎛ 2⎞       2⎞⎫⎤\n",
       "⎢⎪    2            2      ⎜    ⎝f ⎠     -f ⎟⎪⎥\n",
       "⎢⎪   e  - 2⋅e⋅v + v  - log⎝(-d)    ⋅(-g)   ⎠⎪⎥\n",
       "⎢⎨h: ───────────────────────────────────────⎬⎥\n",
       "⎢⎪                   2                      ⎪⎥\n",
       "⎢⎪                  f ⋅(i - v)              ⎪⎥\n",
       "⎣⎩                                          ⎭⎦"
      ]
     },
     "metadata": {},
     "output_type": "display_data"
    },
    {
     "data": {
      "image/png": "[encoded data removed]",
      "text/latex": [
       "$$\\left [ \\right ]$$"
      ],
      "text/plain": [
       "[]"
      ]
     },
     "metadata": {},
     "output_type": "display_data"
    },
    {
     "data": {
      "image/png": "[encoded data removed]",
      "text/latex": [
       "$$\\left [ \\left \\{ v : e - \\frac{f^{2} h}{2} - \\frac{f}{2} \\sqrt{- 4 e h + f^{2} h^{2} + 4 h i + \\log{\\left (\\frac{d^{4}}{g^{4}} \\right )}}\\right \\}, \\quad \\left \\{ v : e - \\frac{f^{2} h}{2} + \\frac{f}{2} \\sqrt{- 4 e h + f^{2} h^{2} + 4 h i + \\log{\\left (\\frac{d^{4}}{g^{4}} \\right )}}\\right \\}\\right ]$$"
      ],
      "text/plain": [
       "⎡⎧                      __________________________________⎫  ⎧                \n",
       "⎢⎪                     ╱                             ⎛ 4⎞ ⎪  ⎪                \n",
       "⎢⎪                    ╱            2  2              ⎜d ⎟ ⎪  ⎪                \n",
       "⎢⎪              f⋅   ╱   -4⋅e⋅h + f ⋅h  + 4⋅h⋅i + log⎜──⎟ ⎪  ⎪              f⋅\n",
       "⎢⎨        2         ╱                                ⎜ 4⎟ ⎬  ⎨        2       \n",
       "⎢⎪       f ⋅h     ╲╱                                 ⎝g ⎠ ⎪  ⎪       f ⋅h     \n",
       "⎢⎪v: e - ──── - ──────────────────────────────────────────⎪, ⎪v: e - ──── + ──\n",
       "⎢⎪        2                         2                     ⎪  ⎪        2       \n",
       "⎣⎩                                                        ⎭  ⎩                \n",
       "\n",
       "      __________________________________⎫⎤\n",
       "     ╱                             ⎛ 4⎞ ⎪⎥\n",
       "    ╱            2  2              ⎜d ⎟ ⎪⎥\n",
       "   ╱   -4⋅e⋅h + f ⋅h  + 4⋅h⋅i + log⎜──⎟ ⎪⎥\n",
       "  ╱                                ⎜ 4⎟ ⎬⎥\n",
       "╲╱                                 ⎝g ⎠ ⎪⎥\n",
       "────────────────────────────────────────⎪⎥\n",
       "                  2                     ⎪⎥\n",
       "                                        ⎭⎦"
      ]
     },
     "metadata": {},
     "output_type": "display_data"
    }
   ],
   "source": [
    "# equation 3 & 4\n",
    "for idx in [d,e,f,g,h,i,v]:\n",
    "    display(sympy.solve([eq3,eq4],idx, dict=True))"
   ]
  },
  {
   "cell_type": "code",
   "execution_count": 241,
   "metadata": {},
   "outputs": [
    {
     "data": {
      "image/png": "[encoded data removed]",
      "text/latex": [
       "$$\\left [ \\right ]$$"
      ],
      "text/plain": [
       "[]"
      ]
     },
     "metadata": {},
     "output_type": "display_data"
    },
    {
     "data": {
      "image/png": "[encoded data removed]",
      "text/latex": [
       "$$\\left [ \\right ]$$"
      ],
      "text/plain": [
       "[]"
      ]
     },
     "metadata": {},
     "output_type": "display_data"
    },
    {
     "data": {
      "image/png": "[encoded data removed]",
      "text/latex": [
       "$$\\left [ \\left \\{ c : \\frac{e^{- \\frac{1}{f^{2}} \\left(e^{2} + u^{2}\\right)}}{b - u} \\left(a e^{\\frac{1}{f^{2}} \\left(e^{2} + u^{2}\\right)} + d \\left(b - u\\right) e^{\\frac{2 e}{f^{2}} u}\\right)\\right \\}\\right ]$$"
      ],
      "text/plain": [
       "⎡⎧   ⎛    2    2                   ⎞   ⎛ 2    2⎞ ⎫⎤\n",
       "⎢⎪   ⎜   e  + u               2⋅e⋅u⎟  -⎝e  + u ⎠ ⎪⎥\n",
       "⎢⎪   ⎜   ───────              ─────⎟  ───────────⎪⎥\n",
       "⎢⎪   ⎜       2                   2 ⎟        2    ⎪⎥\n",
       "⎢⎨   ⎜      f                   f  ⎟       f     ⎬⎥\n",
       "⎢⎪   ⎝a⋅ℯ        + d⋅(b - u)⋅ℯ     ⎠⋅ℯ           ⎪⎥\n",
       "⎢⎪c: ────────────────────────────────────────────⎪⎥\n",
       "⎢⎪                      b - u                    ⎪⎥\n",
       "⎣⎩                                               ⎭⎦"
      ]
     },
     "metadata": {},
     "output_type": "display_data"
    },
    {
     "data": {
      "image/png": "[encoded data removed]",
      "text/latex": [
       "$$\\left [ \\right ]$$"
      ],
      "text/plain": [
       "[]"
      ]
     },
     "metadata": {},
     "output_type": "display_data"
    },
    {
     "data": {
      "image/png": "[encoded data removed]",
      "text/latex": [
       "$$\\left [ \\right ]$$"
      ],
      "text/plain": [
       "[]"
      ]
     },
     "metadata": {},
     "output_type": "display_data"
    },
    {
     "data": {
      "image/png": "[encoded data removed]",
      "text/latex": [
       "$$\\left [ \\right ]$$"
      ],
      "text/plain": [
       "[]"
      ]
     },
     "metadata": {},
     "output_type": "display_data"
    },
    {
     "data": {
      "image/png": "[encoded data removed]",
      "text/latex": [
       "$$\\left [ \\right ]$$"
      ],
      "text/plain": [
       "[]"
      ]
     },
     "metadata": {},
     "output_type": "display_data"
    },
    {
     "data": {
      "image/png": "[encoded data removed]",
      "text/latex": [
       "$$\\left [ \\left \\{ h : \\frac{1}{f^{2} \\left(i - v\\right)} \\left(e^{2} - 2 e v + v^{2} - \\log{\\left (\\left(- d\\right)^{f^{2}} \\left(- g\\right)^{- f^{2}} \\right )}\\right)\\right \\}\\right ]$$"
      ],
      "text/plain": [
       "⎡⎧                        ⎛    ⎛ 2⎞       2⎞⎫⎤\n",
       "⎢⎪    2            2      ⎜    ⎝f ⎠     -f ⎟⎪⎥\n",
       "⎢⎪   e  - 2⋅e⋅v + v  - log⎝(-d)    ⋅(-g)   ⎠⎪⎥\n",
       "⎢⎨h: ───────────────────────────────────────⎬⎥\n",
       "⎢⎪                   2                      ⎪⎥\n",
       "⎢⎪                  f ⋅(i - v)              ⎪⎥\n",
       "⎣⎩                                          ⎭⎦"
      ]
     },
     "metadata": {},
     "output_type": "display_data"
    },
    {
     "data": {
      "image/png": "[encoded data removed]",
      "text/latex": [
       "$$\\left [ \\right ]$$"
      ],
      "text/plain": [
       "[]"
      ]
     },
     "metadata": {},
     "output_type": "display_data"
    },
    {
     "data": {
      "image/png": "[encoded data removed]",
      "text/latex": [
       "$$\\left [ \\left \\{ v : e - \\frac{f^{2} h}{2} - \\frac{f}{2} \\sqrt{- 4 e h + f^{2} h^{2} + 4 h i + \\log{\\left (\\frac{d^{4}}{g^{4}} \\right )}}\\right \\}, \\quad \\left \\{ v : e - \\frac{f^{2} h}{2} + \\frac{f}{2} \\sqrt{- 4 e h + f^{2} h^{2} + 4 h i + \\log{\\left (\\frac{d^{4}}{g^{4}} \\right )}}\\right \\}\\right ]$$"
      ],
      "text/plain": [
       "⎡⎧                      __________________________________⎫  ⎧                \n",
       "⎢⎪                     ╱                             ⎛ 4⎞ ⎪  ⎪                \n",
       "⎢⎪                    ╱            2  2              ⎜d ⎟ ⎪  ⎪                \n",
       "⎢⎪              f⋅   ╱   -4⋅e⋅h + f ⋅h  + 4⋅h⋅i + log⎜──⎟ ⎪  ⎪              f⋅\n",
       "⎢⎨        2         ╱                                ⎜ 4⎟ ⎬  ⎨        2       \n",
       "⎢⎪       f ⋅h     ╲╱                                 ⎝g ⎠ ⎪  ⎪       f ⋅h     \n",
       "⎢⎪v: e - ──── - ──────────────────────────────────────────⎪, ⎪v: e - ──── + ──\n",
       "⎢⎪        2                         2                     ⎪  ⎪        2       \n",
       "⎣⎩                                                        ⎭  ⎩                \n",
       "\n",
       "      __________________________________⎫⎤\n",
       "     ╱                             ⎛ 4⎞ ⎪⎥\n",
       "    ╱            2  2              ⎜d ⎟ ⎪⎥\n",
       "   ╱   -4⋅e⋅h + f ⋅h  + 4⋅h⋅i + log⎜──⎟ ⎪⎥\n",
       "  ╱                                ⎜ 4⎟ ⎬⎥\n",
       "╲╱                                 ⎝g ⎠ ⎪⎥\n",
       "────────────────────────────────────────⎪⎥\n",
       "                  2                     ⎪⎥\n",
       "                                        ⎭⎦"
      ]
     },
     "metadata": {},
     "output_type": "display_data"
    }
   ],
   "source": [
    "# equation 1 & 2 & 3 &4\n",
    "for idx in [a,b,c,d,e,f,g,h,i,v]:\n",
    "    display(sympy.solve([eq1,eq2,eq3,eq4],idx, dict=True))"
   ]
  },
  {
   "cell_type": "markdown",
   "metadata": {},
   "source": [
    "# Solution simplification"
   ]
  },
  {
   "cell_type": "code",
   "execution_count": 250,
   "metadata": {},
   "outputs": [
    {
     "data": {
      "image/png": "[encoded data removed]",
      "text/latex": [
       "$$\\frac{e^{- \\frac{e^{2}}{f^{2}}} e^{- \\frac{u^{2}}{f^{2}}} e^{\\frac{2 e}{f^{2}} u}}{- b + u} \\left(- a e^{\\frac{e^{2}}{f^{2}}} e^{\\frac{u^{2}}{f^{2}}} e^{- \\frac{2 e}{f^{2}} u} - b d + d u\\right)$$"
      ],
      "text/plain": [
       "⎛      2   2                     ⎞    2     2        \n",
       "⎜     e   u   -2⋅e⋅u             ⎟  -e    -u    2⋅e⋅u\n",
       "⎜     ──  ──  ───────            ⎟  ────  ────  ─────\n",
       "⎜      2   2      2              ⎟    2     2      2 \n",
       "⎜     f   f      f               ⎟   f     f      f  \n",
       "⎝- a⋅ℯ  ⋅ℯ  ⋅ℯ        - b⋅d + d⋅u⎠⋅ℯ    ⋅ℯ    ⋅ℯ     \n",
       "─────────────────────────────────────────────────────\n",
       "                        -b + u                       "
      ]
     },
     "execution_count": 250,
     "metadata": {},
     "output_type": "execute_result"
    }
   ],
   "source": [
    "sympy.factor(sympy.solve(eq1,c)[0])"
   ]
  },
  {
   "cell_type": "code",
   "execution_count": null,
   "metadata": {},
   "outputs": [],
   "source": [
    "four = g"
   ]
  }
 ],
 "metadata": {
  "kernelspec": {
   "display_name": "Python 3",
   "language": "python",
   "name": "python3"
  },
  "language_info": {
   "codemirror_mode": {
    "name": "ipython",
    "version": 3
   },
   "file_extension": ".py",
   "mimetype": "text/x-python",
   "name": "python",
   "nbconvert_exporter": "python",
   "pygments_lexer": "ipython3",
   "version": "3.4.3"
  }
 },
 "nbformat": 4,
 "nbformat_minor": 2
}
